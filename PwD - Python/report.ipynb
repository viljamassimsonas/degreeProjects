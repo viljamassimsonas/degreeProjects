{
 "cells": [
  {
   "cell_type": "markdown",
   "id": "cd1e995d",
   "metadata": {},
   "source": [
    "<h1>1 - Aims, objectives and background</h1>"
   ]
  },
  {
   "cell_type": "markdown",
   "id": "85b0f9f4",
   "metadata": {},
   "source": [
    "<h2>1.1 Introduction</h2>\n",
    "\n",
    "In this project, we aim to perform an exploratory data analysis on cryptocurrency data sourced from CoinMarketCap. Our primary objectives include gaining insights into cryptocurrency price trends, analyzing market depth, volume, and examining the sentiment derived from news articles scraped from the CoinDesk webpage. This introduction will assess how the criteria provided have been met throughout the project."
   ]
  },
  {
   "cell_type": "markdown",
   "id": "68a282eb",
   "metadata": {},
   "source": [
    "<h2>1.2 Aims and Objectives, Dataset Acquisition, and Utilization</h2>\n",
    "\n",
    "Our aims and objectives for this independent research project include understanding the relationship between cryptocurrency prices and market depth, analyzing trading volumes to identify patterns and trends, and examining the sentiment expressed in news articles to gauge its impact on cryptocurrency markets. We have obtained a relevant dataset by scraping cryptocurrency price, market depth, and volume data from CoinMarketCap, as well as news articles from CoinDesk.\n",
    "\n",
    "Using Jupyter Notebook, we have utilized the acquired dataset to perform an exploratory data analysis. This involved cleaning the data, organizing it into appropriate data structures such as dataframes, and conducting statistical analyses to extract meaningful insights. By leveraging the powerful tools available in Jupyter Notebook, we have effectively explored and visualized the data to gain a deeper understanding of the cryptocurrency market dynamics."
   ]
  },
  {
   "cell_type": "markdown",
   "id": "e1618c87",
   "metadata": {},
   "source": [
    "<h2>1.3 Relevance of Data and Data Source Justification</h2>\n",
    "\n",
    "The chosen data source, CoinMarketCap, is widely recognized as one of the leading cryptocurrency exchanges. Its extensive historical data provides a comprehensive view of cryptocurrency prices, market depth, and volume. This data source is highly relevant to our research question as it allows us to analyze the specific dynamics of Bitcoin (BTC) on the CoinMarketCap exchange. Furthermore, scraping news articles from CoinDesk adds valuable sentiment analysis, enabling us to gauge the market sentiment and its potential influence on cryptocurrency price movements.\n",
    "\n",
    "We have justified the choice of this data source based on its reliability, relevance, and availability. The column headings in the dataset directly align with our research questions, allowing us to investigate correlations between price fluctuations, market depth, and trading volumes. Additionally, the data format, in the form of CSV files, is suitable for analysis and has been transformed into structured dataframes, facilitating various statistical analyses and visualizations.\n",
    "\n",
    "In considering alternative datasets, we have explored the possibility of incorporating data from other cryptocurrency exchanges or additional news sources. However, CoinMarketCap was chosen as the primary data source due to its market prominence, historical data availability, and comprehensive nature. While other datasets may offer unique perspectives or alternative market dynamics, they may lack the breadth and depth provided by CoinMarketCap."
   ]
  },
  {
   "cell_type": "markdown",
   "id": "49b68dd6",
   "metadata": {},
   "source": [
    "<h2>1.4 Project Background</h2>\n",
    "\n",
    "The field of cryptocurrency is of great interest and relevance due to its rapidly evolving nature and potential impact on the financial landscape. This project focuses on analyzing Bitcoin (BTC) price trends, market depth, and trading volumes on the CoinMarketCap exchange, complemented by sentiment analysis of news articles from CoinDesk. Although there have been previous studies on cryptocurrency analysis, our research questions and specific focus have not been extensively explored.\n",
    "\n",
    "The scope of our work includes analyzing price fluctuations, market depth, and trading volumes of BTC on CoinMarketCap. We will also examine the sentiment expressed in news articles to gain insights into the impact of news on cryptocurrency markets. Our analytical data processing pipeline involves data acquisition, data cleaning, exploratory data analysis, statistical analysis, and visualization techniques to derive meaningful insights.\n",
    "\n",
    "To evaluate our aims and objectives, we will utilize various statistical measures and visualizations. These include stock graphs to visualize price trends and patterns, sentiment bars to assess the overall sentiment expressed in news articles, word clouds to highlight frequently occurring words, and graphs depicting the frequency of most repeated words in the\n"
   ]
  },
  {
   "cell_type": "markdown",
   "id": "46463768",
   "metadata": {},
   "source": [
    "<h2>1.5 Ethics of Use of Data</h2>\n",
    "\n",
    "The project demonstrates a strong commitment to ethical data use throughout the analysis. The data utilized in this project was obtained from reputable sources, CoinMarketCap and CoinDesk, with their explicit written permission. This ensures that the data collection process is conducted in a responsible manner, respecting the terms of service and usage restrictions set by these sources. By obtaining written permission, the project adheres to ethical guidelines and emphasizes the importance of obtaining proper consent and authorization for data usage.\n",
    "\n",
    "To maintain transparency, the data processing pipeline has been thoroughly documented at each step of the analysis. By providing clear documentation, the project promotes accountability and allows for a better understanding of how the data was handled and processed. This transparency also enables other researchers to replicate or validate the analysis, contributing to the overall integrity of the project. Additionally, to protect individual privacy, any personally identifiable information within the dataset has been anonymized. This anonymization process ensures that the privacy and confidentiality of individuals involved in the data are safeguarded.\n",
    "\n",
    "In regards to the potential biases within the dataset, we have to recognise that the project will be subject to Personal Biases from the authors of the articles taken from CoinDesk. Sometimes articles might be misleading to incite trader activity in the market which could influence someone into making a trade using this analysed data and potentially causing financial loss."
   ]
  },
  {
   "cell_type": "markdown",
   "id": "25dd7fb3",
   "metadata": {},
   "source": [
    "<h2>Module Loading</h2>"
   ]
  },
  {
   "cell_type": "markdown",
   "id": "00b7dafc",
   "metadata": {},
   "source": [
    "Checks if module dependencies have been met, if not, automatically fixes them ---> WARNING: KERNEL WILL BE RESTARTED"
   ]
  },
  {
   "cell_type": "code",
   "execution_count": 1,
   "id": "01d62b6b",
   "metadata": {
    "scrolled": false
   },
   "outputs": [
    {
     "name": "stdout",
     "output_type": "stream",
     "text": [
      "Imported requests\n",
      "Imported scipy\n",
      "Imported numpy\n",
      "Imported nltk\n",
      "Imported matplotlib\n",
      "Imported selenium\n",
      "Imported wordcloud\n",
      "Imported re\n",
      "Imported pandas\n",
      "Imported func_timeout\n",
      "\n",
      "Module dependencies met perfectly!\n"
     ]
    }
   ],
   "source": [
    "import time\n",
    "import os\n",
    "modulesRequired = [('requests'    ,'2.27.1' ),\n",
    "                   ('scipy'       ,'1.10.1' ),\n",
    "                   ('numpy'       ,'1.24.3' ),\n",
    "                   ('nltk'        ,'3.7'    ),\n",
    "                   ('matplotlib'  ,'3.2.1'  ),\n",
    "                   ('selenium'    ,'3.141.0'),\n",
    "                   ('wordcloud'   ,'1.9.2'  ),\n",
    "                   ('re'          ,'2.2.1'  ),\n",
    "                   ('pandas'      ,'1.4.2'  ),\n",
    "                   ('func_timeout','4.3.5'  )]\n",
    "\n",
    "# IMPORTER AND AUTO INSTALLER\n",
    "for module in modulesRequired: \n",
    "    try: \n",
    "        locals()[module[0]] = __import__(module[0])\n",
    "        print(f'Imported {module[0]}')\n",
    "    except: \n",
    "        ! pip install {module[0]}\n",
    "        locals()[module[0]] = __import__(module[0])\n",
    "        print(f'Imported {module[0]}')\n",
    "\n",
    "# WARNING SYSTEM\n",
    "modules = [requests,scipy,numpy,nltk,matplotlib,selenium,wordcloud,re,pandas]\n",
    "status = False\n",
    "for x in range(len(modules)):\n",
    "    if modules[x].__version__ != modulesRequired[x][1]:\n",
    "        print('\\nWARNING:', modulesRequired[x][0]+' VERSION MISMATCH\\n')\n",
    "        print('You need:' , modulesRequired[x][1])\n",
    "        print('You have:' , modules[x].__version__)\n",
    "        status = True\n",
    "\n",
    "# AUTO FIXER         \n",
    "if status == False: print('\\nModule dependencies met perfectly!')\n",
    "else: \n",
    "    print('\\nFixing dependencies as code might not run properly!')\n",
    "    print('\\nEnsure Microsoft Visual C++ is installed!')\n",
    "    \n",
    "    for x in range(len(modules)):\n",
    "        if modules[x].__version__ !=  modulesRequired[x][1]:\n",
    "            print(f'\\nINSTALLING --> {modulesRequired[x][0]} == {modulesRequired[x][1]}')\n",
    "            ! pip install {modulesRequired[x][0]}=={modulesRequired[x][1]}\n",
    "    \n",
    "    print('\\nRESTARTING KERNEL TO UPDATE CHANGES, RERUN AGAIN!')\n",
    "    \n",
    "    time.sleep(2)\n",
    "    os._exit( 00) # <--- RESTARTS KERNEL! "
   ]
  },
  {
   "cell_type": "code",
   "execution_count": 2,
   "id": "66b1ed23",
   "metadata": {},
   "outputs": [
    {
     "name": "stderr",
     "output_type": "stream",
     "text": [
      "[nltk_data] Downloading package averaged_perceptron_tagger to\n",
      "[nltk_data]     C:\\Users\\MSI\\AppData\\Roaming\\nltk_data...\n",
      "[nltk_data]   Package averaged_perceptron_tagger is already up-to-\n",
      "[nltk_data]       date!\n",
      "[nltk_data] Downloading package vader_lexicon to\n",
      "[nltk_data]     C:\\Users\\MSI\\AppData\\Roaming\\nltk_data...\n",
      "[nltk_data]   Package vader_lexicon is already up-to-date!\n",
      "[nltk_data] Downloading package stopwords to\n",
      "[nltk_data]     C:\\Users\\MSI\\AppData\\Roaming\\nltk_data...\n",
      "[nltk_data]   Package stopwords is already up-to-date!\n",
      "[nltk_data] Downloading package wordnet to\n",
      "[nltk_data]     C:\\Users\\MSI\\AppData\\Roaming\\nltk_data...\n",
      "[nltk_data]   Package wordnet is already up-to-date!\n",
      "[nltk_data] Downloading package omw-1.4 to\n",
      "[nltk_data]     C:\\Users\\MSI\\AppData\\Roaming\\nltk_data...\n",
      "[nltk_data]   Package omw-1.4 is already up-to-date!\n",
      "[nltk_data] Downloading package punkt to\n",
      "[nltk_data]     C:\\Users\\MSI\\AppData\\Roaming\\nltk_data...\n",
      "[nltk_data]   Package punkt is already up-to-date!\n"
     ]
    }
   ],
   "source": [
    "# Import rest of libraries and modules\n",
    "from time import sleep\n",
    "from datetime import datetime\n",
    "from IPython.display import clear_output\n",
    "from selenium import webdriver\n",
    "from selenium.webdriver.common.by import By\n",
    "from bs4 import BeautifulSoup\n",
    "nltk.download('averaged_perceptron_tagger')\n",
    "nltk.download('vader_lexicon') \n",
    "nltk.download('stopwords')\n",
    "nltk.download('wordnet')\n",
    "nltk.download('omw-1.4')\n",
    "nltk.download('punkt')\n",
    "from nltk.sentiment.vader import SentimentIntensityAnalyzer\n",
    "from nltk.probability import FreqDist\n",
    "from nltk.stem import WordNetLemmatizer\n",
    "from nltk.corpus import wordnet\n",
    "from nltk.corpus import stopwords\n",
    "from wordcloud import WordCloud\n",
    "import math\n",
    "from random import random\n",
    "import numpy as np\n",
    "import pandas as pd\n",
    "import matplotlib.pyplot as plt\n",
    "import matplotlib.cbook   \n",
    "import warnings\n",
    "from func_timeout import func_timeout, FunctionTimedOut\n",
    "\n",
    "# Creates current path string\n",
    "dirPath = os.getcwd()\n",
    "\n",
    "# Sets headers for selenium\n",
    "headers = {\n",
    "    \"user-agent\":\"Mozilla/5.0 (X11; Linux x86_64) AppleWebKit/537.36 (KHTML, like Gecko) Chrome/61.0.3163.100 Safari/537.36\"\n",
    "}"
   ]
  },
  {
   "cell_type": "code",
   "execution_count": 3,
   "id": "f364d5c1",
   "metadata": {},
   "outputs": [
    {
     "name": "stdout",
     "output_type": "stream",
     "text": [
      "requests == 2.27.1\n",
      "scipy == 1.10.1\n",
      "numpy == 1.24.3\n",
      "nltk == 3.7\n",
      "matplotlib == 3.2.1\n",
      "selenium == 3.141.0\n",
      "wordcloud == 1.9.2\n",
      "re == 2.2.1\n",
      "pandas == 1.4.2\n"
     ]
    }
   ],
   "source": [
    "for module in modules: print(module.__name__+' ==',module.__version__)"
   ]
  },
  {
   "cell_type": "markdown",
   "id": "f02b886c",
   "metadata": {},
   "source": [
    "<h1>2 - Data Scrapping and Processing</h1> "
   ]
  },
  {
   "cell_type": "markdown",
   "id": "2dc29c89",
   "metadata": {},
   "source": [
    "<h2>2.1 Sourcing Exchange Data From CoinMarketCap</h2>\n",
    "\n",
    "<h3>2.1.1 CoinMarketCap Scraper</h3>\n",
    "\n",
    "This code allows us to get all TR tags from all exchanges which have BTC/USDT data. It navigates the page using Selenium. The scraper is made as an object to allow access to the Selenium object created which permits controling it outside of the object, and due this it will be possible to close the browser by a method call, this will be necessary later on and it will be explained why."
   ]
  },
  {
   "cell_type": "code",
   "execution_count": 4,
   "id": "748052e4",
   "metadata": {},
   "outputs": [],
   "source": [
    "class scraper:\n",
    "    \n",
    "    # Create the programmable browser\n",
    "    def __init__(self):\n",
    "        self.browser = webdriver.Chrome(executable_path= dirPath + \"\\selenium.exe\")\n",
    "    \n",
    "    def sourceData(self):\n",
    "        # Set and load the page\n",
    "        self.browser.set_window_size(1200,600);\n",
    "        url = \"https://coinmarketcap.com/currencies/bitcoin/markets/\"\n",
    "        #print(\"Loading\", url)\n",
    "        self.browser.get(url)\n",
    "        time.sleep(1)\n",
    "\n",
    "        # Scroll down the height of the page\n",
    "        self.browser.execute_script(\"window.scrollTo(0,document.body.scrollHeight)\")\n",
    "        time.sleep(2)\n",
    "        \n",
    "        # Forces market page and presses dropdown menu\n",
    "        markets  =  \"document.getElementsByClassName('sc-44910c32-0 bnFkDL sc-240dc94d-0 jZkcnS cmc-link')[0].click()\"\n",
    "        self.browser.execute_script(markets)\n",
    "        self.browser.execute_script(\"document.getElementsByClassName('sc-aef7b723-0 sc-a4d63dad-0 ddLpEy')[0].click()\")\n",
    "        \n",
    "        # Finds the USDT button and presses it\n",
    "        pairs = self.browser.find_elements_by_class_name(\"sc-44910c32-0.kppgZc.dropdown-item\")\n",
    "\n",
    "        USDT = [x for x in range(len(pairs)) if pairs[x].get_attribute(\"innerHTML\") == 'USDT'][0]\n",
    "                \n",
    "        self.browser.execute_script(f\"document.getElementsByClassName('sc-44910c32-0 kppgZc dropdown-item')[{USDT}].click()\")\n",
    "        time.sleep(2)\n",
    "\n",
    "        # Looks for the TABLE tag\n",
    "        tableTags = self.browser.find_elements(By.TAG_NAME, \"table\")\n",
    "        \n",
    "        # Parses Table Tag with BS4\n",
    "        parsedTableTags = BeautifulSoup(str(tableTags[0].get_attribute(\"innerHTML\")), \"html.parser\")\n",
    "       \n",
    "        # Looks for TR tags\n",
    "        trTags = parsedTableTags.find_all('tr')\n",
    "\n",
    "        # Looks which TR tags have BTC/USDT to avoid XBT being incorporated\n",
    "        tagHasBTC = [x for x in range(len(trTags)) if trTags[x].find_all(string=\"BTC/USDT\") == ['BTC/USDT']]\n",
    "      \n",
    "        # Appends all TR tags which has BTCUSDT\n",
    "        btcExchangeData = [trTags[tagHasBTC[x]] for x in range(len(tagHasBTC))]\n",
    "        \n",
    "        # time.sleep(45) # OPTIONAL TIMEOUT\n",
    "        self.browser.quit()\n",
    "        \n",
    "        return btcExchangeData\n",
    "        \n",
    "    def closeBrowser(self):\n",
    "        self.browser.quit()"
   ]
  },
  {
   "cell_type": "markdown",
   "id": "89a5a5d3",
   "metadata": {},
   "source": [
    "<h3>2.1.2 Creating Exchange Dataframes</h3>\n",
    "\n",
    "Each exchange data capture which encompases top 10 exchanges like Binance, Okx and so on, with their respective prices, market depth value at ±2% and volume traded in the last 24 hours, is put into exchangeData dataframe which is then put into datedExchangeData dataframe with a timestamp associated, all of this is acomplished using exchangeDataManager() function. This in fact is a nested dataframe and this is necessary as it will allow easy data use, visualisation and exporting."
   ]
  },
  {
   "cell_type": "code",
   "execution_count": 5,
   "id": "41f74e01",
   "metadata": {},
   "outputs": [],
   "source": [
    "def createExchangeDataFrame():\n",
    "    exchangeDataTable = {\n",
    "        'EXCHANGE': [], \n",
    "           'PRICE': [],\n",
    "         '+2 SELL': [],\n",
    "          '-2 BUY': [],\n",
    "          'VOLUME': [],\n",
    "    }\n",
    "    return pd.DataFrame(exchangeDataTable)"
   ]
  },
  {
   "cell_type": "code",
   "execution_count": 6,
   "id": "2df6e295",
   "metadata": {},
   "outputs": [
    {
     "data": {
      "text/html": [
       "<div>\n",
       "<style scoped>\n",
       "    .dataframe tbody tr th:only-of-type {\n",
       "        vertical-align: middle;\n",
       "    }\n",
       "\n",
       "    .dataframe tbody tr th {\n",
       "        vertical-align: top;\n",
       "    }\n",
       "\n",
       "    .dataframe thead th {\n",
       "        text-align: right;\n",
       "    }\n",
       "</style>\n",
       "<table border=\"1\" class=\"dataframe\">\n",
       "  <thead>\n",
       "    <tr style=\"text-align: right;\">\n",
       "      <th></th>\n",
       "      <th>EXCHANGE</th>\n",
       "      <th>PRICE</th>\n",
       "      <th>+2 SELL</th>\n",
       "      <th>-2 BUY</th>\n",
       "      <th>VOLUME</th>\n",
       "    </tr>\n",
       "  </thead>\n",
       "  <tbody>\n",
       "  </tbody>\n",
       "</table>\n",
       "</div>"
      ],
      "text/plain": [
       "Empty DataFrame\n",
       "Columns: [EXCHANGE, PRICE, +2 SELL, -2 BUY, VOLUME]\n",
       "Index: []"
      ]
     },
     "execution_count": 6,
     "metadata": {},
     "output_type": "execute_result"
    }
   ],
   "source": [
    "createExchangeDataFrame()"
   ]
  },
  {
   "cell_type": "code",
   "execution_count": 7,
   "id": "552079ff",
   "metadata": {},
   "outputs": [
    {
     "data": {
      "text/html": [
       "<div>\n",
       "<style scoped>\n",
       "    .dataframe tbody tr th:only-of-type {\n",
       "        vertical-align: middle;\n",
       "    }\n",
       "\n",
       "    .dataframe tbody tr th {\n",
       "        vertical-align: top;\n",
       "    }\n",
       "\n",
       "    .dataframe thead th {\n",
       "        text-align: right;\n",
       "    }\n",
       "</style>\n",
       "<table border=\"1\" class=\"dataframe\">\n",
       "  <thead>\n",
       "    <tr style=\"text-align: right;\">\n",
       "      <th></th>\n",
       "      <th>EXCHANGE DATA</th>\n",
       "      <th>TOTAL DEPTH RATIO</th>\n",
       "      <th>DATE</th>\n",
       "    </tr>\n",
       "  </thead>\n",
       "  <tbody>\n",
       "  </tbody>\n",
       "</table>\n",
       "</div>"
      ],
      "text/plain": [
       "Empty DataFrame\n",
       "Columns: [EXCHANGE DATA, TOTAL DEPTH RATIO, DATE]\n",
       "Index: []"
      ]
     },
     "execution_count": 7,
     "metadata": {},
     "output_type": "execute_result"
    }
   ],
   "source": [
    "datedExchangeDataTable = {   \n",
    "        'EXCHANGE DATA': [],    \n",
    "    'TOTAL DEPTH RATIO': [],    \n",
    "                 'DATE': []    \n",
    "}\n",
    "datedExchangeData = pd.DataFrame(datedExchangeDataTable)\n",
    "datedExchangeData"
   ]
  },
  {
   "cell_type": "markdown",
   "id": "47c290f5",
   "metadata": {},
   "source": [
    "<h3>2.1.3 dataFrame loader from CSV</h3>\n",
    "    \n",
    "Reimporting the exported dataFrame proved to lose all of its formating rendering the dataFrames inside it as just strings, which then made all other code not work.\n",
    "\n",
    "I had no other choice than to improvise by coding a formatting tool. All it does is it just removes unnecesary parts from the dataFrame string and tokenises it, formats and inserts it into a new dataFrame entry, it does this for all entries, then it just deletes the corrupted ones and resets the indices."
   ]
  },
  {
   "cell_type": "code",
   "execution_count": 8,
   "id": "a103e66d",
   "metadata": {},
   "outputs": [],
   "source": [
    "datedExchangeData = pd.read_csv('datedExchangeData.csv')"
   ]
  },
  {
   "cell_type": "code",
   "execution_count": 9,
   "id": "a0d27b91",
   "metadata": {},
   "outputs": [
    {
     "data": {
      "text/plain": [
       "'   EXCHANGE  PRICE   +2 SELL    -2 BUY      VOLUME\\n0   BINANCE  30632  27754322  18599986  1341350586\\n1       OKX  30627  30608122  35281479   294749207\\n2      GATE  30633  16206311  13400061   223229203\\n3    KUCOIN  30630  21240676  20404817   138136801\\n4  COINBASE  30632   1273125   2075955    82344033\\n5  BITFINEX  30634   8871402   5138577    15203968\\n6  BITSTAMP  30635    411603    293089      787757\\n7   BITTREX  30628    540212    210688      351334\\n8    GEMINI  30689     22319     22177       26227'"
      ]
     },
     "execution_count": 9,
     "metadata": {},
     "output_type": "execute_result"
    }
   ],
   "source": [
    "datedExchangeData.iloc[0][0]"
   ]
  },
  {
   "cell_type": "code",
   "execution_count": 10,
   "id": "99b970b5",
   "metadata": {},
   "outputs": [],
   "source": [
    "def fixData(datedExchangeData, offset):\n",
    "    \n",
    "    for x in range(offset):\n",
    "\n",
    "        # Removes unnecessary string parts\n",
    "        toParse = datedExchangeData.iloc[x][0]\n",
    "\n",
    "        redundantCharacters = ['EXCHANGE','PRICE','+2 SELL','-2 BUY','VOLUME\\n0', \n",
    "                                '\\n1','\\n2','\\n3','\\n4','\\n5','\\n6','\\n7','\\n8']\n",
    "\n",
    "        for character in redundantCharacters: toParse = toParse.replace(character, '') \n",
    "\n",
    "        # Tokenises the string\n",
    "        toParse = nltk.word_tokenize(toParse)\n",
    "\n",
    "        # Creates new entry and inserts a new exchangeData dataFrame \n",
    "        datedExchangeData.loc[x + offset] = ''\n",
    "        datedExchangeData.loc[x + offset][0] = createExchangeDataFrame()\n",
    "\n",
    "        # Splits array into equal parts of lenght 5, and loops for each exchage's data row\n",
    "        # example: BINANCE  30186  24513908  17229170  1191950547, as you see has length 5\n",
    "        split = np.array_split(toParse, 9)\n",
    "        for y in range(9):\n",
    "\n",
    "            # Formats numbers from string into integers \n",
    "            rawList   = [item for item in split[y]] \n",
    "            numberFix = [int(number) for number in rawList[1:]]\n",
    "\n",
    "            # Merges the name, numbers into a single list and appends into dataFrame\n",
    "            fixedList = [rawList[0]]\n",
    "            for number in numberFix: fixedList.append(number)\n",
    "\n",
    "            datedExchangeData.iloc[x + offset][0].loc[y] = fixedList\n",
    "\n",
    "        # Formats date values and appends them into dataFrame    \n",
    "        datedExchangeData.iloc[x + offset][2] = datetime.strptime(datedExchangeData.iloc[x][2], '%Y-%m-%d %H:%M:%S.%f')\n",
    "\n",
    "    # Removes corrupted entries as it been fixed with new ones\n",
    "    for x in range(offset): datedExchangeData = datedExchangeData.drop(x)\n",
    "    # Resets index     \n",
    "    datedExchangeData = datedExchangeData.reset_index(drop=True)\n",
    "    \n",
    "    return datedExchangeData"
   ]
  },
  {
   "cell_type": "code",
   "execution_count": 11,
   "id": "02eadb1b",
   "metadata": {},
   "outputs": [
    {
     "data": {
      "text/html": [
       "<div>\n",
       "<style scoped>\n",
       "    .dataframe tbody tr th:only-of-type {\n",
       "        vertical-align: middle;\n",
       "    }\n",
       "\n",
       "    .dataframe tbody tr th {\n",
       "        vertical-align: top;\n",
       "    }\n",
       "\n",
       "    .dataframe thead th {\n",
       "        text-align: right;\n",
       "    }\n",
       "</style>\n",
       "<table border=\"1\" class=\"dataframe\">\n",
       "  <thead>\n",
       "    <tr style=\"text-align: right;\">\n",
       "      <th></th>\n",
       "      <th>0</th>\n",
       "      <th>1</th>\n",
       "      <th>2</th>\n",
       "      <th>3</th>\n",
       "      <th>4</th>\n",
       "      <th>5</th>\n",
       "      <th>6</th>\n",
       "      <th>7</th>\n",
       "      <th>8</th>\n",
       "    </tr>\n",
       "  </thead>\n",
       "  <tbody>\n",
       "    <tr>\n",
       "      <th>EXCHANGE</th>\n",
       "      <td>BINANCE</td>\n",
       "      <td>OKX</td>\n",
       "      <td>GATE</td>\n",
       "      <td>KUCOIN</td>\n",
       "      <td>COINBASE</td>\n",
       "      <td>BITFINEX</td>\n",
       "      <td>BITSTAMP</td>\n",
       "      <td>BITTREX</td>\n",
       "      <td>GEMINI</td>\n",
       "    </tr>\n",
       "    <tr>\n",
       "      <th>PRICE</th>\n",
       "      <td>30632</td>\n",
       "      <td>30627</td>\n",
       "      <td>30633</td>\n",
       "      <td>30630</td>\n",
       "      <td>30632</td>\n",
       "      <td>30634</td>\n",
       "      <td>30635</td>\n",
       "      <td>30628</td>\n",
       "      <td>30689</td>\n",
       "    </tr>\n",
       "    <tr>\n",
       "      <th>+2 SELL</th>\n",
       "      <td>27754322</td>\n",
       "      <td>30608122</td>\n",
       "      <td>16206311</td>\n",
       "      <td>21240676</td>\n",
       "      <td>1273125</td>\n",
       "      <td>8871402</td>\n",
       "      <td>411603</td>\n",
       "      <td>540212</td>\n",
       "      <td>22319</td>\n",
       "    </tr>\n",
       "    <tr>\n",
       "      <th>-2 BUY</th>\n",
       "      <td>18599986</td>\n",
       "      <td>35281479</td>\n",
       "      <td>13400061</td>\n",
       "      <td>20404817</td>\n",
       "      <td>2075955</td>\n",
       "      <td>5138577</td>\n",
       "      <td>293089</td>\n",
       "      <td>210688</td>\n",
       "      <td>22177</td>\n",
       "    </tr>\n",
       "    <tr>\n",
       "      <th>VOLUME</th>\n",
       "      <td>1341350586</td>\n",
       "      <td>294749207</td>\n",
       "      <td>223229203</td>\n",
       "      <td>138136801</td>\n",
       "      <td>82344033</td>\n",
       "      <td>15203968</td>\n",
       "      <td>787757</td>\n",
       "      <td>351334</td>\n",
       "      <td>26227</td>\n",
       "    </tr>\n",
       "  </tbody>\n",
       "</table>\n",
       "</div>"
      ],
      "text/plain": [
       "                   0          1          2          3         4         5  \\\n",
       "EXCHANGE     BINANCE        OKX       GATE     KUCOIN  COINBASE  BITFINEX   \n",
       "PRICE          30632      30627      30633      30630     30632     30634   \n",
       "+2 SELL     27754322   30608122   16206311   21240676   1273125   8871402   \n",
       "-2 BUY      18599986   35281479   13400061   20404817   2075955   5138577   \n",
       "VOLUME    1341350586  294749207  223229203  138136801  82344033  15203968   \n",
       "\n",
       "                 6        7       8  \n",
       "EXCHANGE  BITSTAMP  BITTREX  GEMINI  \n",
       "PRICE        30635    30628   30689  \n",
       "+2 SELL     411603   540212   22319  \n",
       "-2 BUY      293089   210688   22177  \n",
       "VOLUME      787757   351334   26227  "
      ]
     },
     "execution_count": 11,
     "metadata": {},
     "output_type": "execute_result"
    }
   ],
   "source": [
    "datedExchangeData  = fixData(datedExchangeData, len(datedExchangeData))\n",
    "\n",
    "backupExchangeData = datedExchangeData.copy()\n",
    "\n",
    "datedExchangeData.iloc[0][0].T"
   ]
  },
  {
   "cell_type": "code",
   "execution_count": 12,
   "id": "16f63ad3",
   "metadata": {},
   "outputs": [
    {
     "data": {
      "text/html": [
       "<div>\n",
       "<style scoped>\n",
       "    .dataframe tbody tr th:only-of-type {\n",
       "        vertical-align: middle;\n",
       "    }\n",
       "\n",
       "    .dataframe tbody tr th {\n",
       "        vertical-align: top;\n",
       "    }\n",
       "\n",
       "    .dataframe thead th {\n",
       "        text-align: right;\n",
       "    }\n",
       "</style>\n",
       "<table border=\"1\" class=\"dataframe\">\n",
       "  <thead>\n",
       "    <tr style=\"text-align: right;\">\n",
       "      <th></th>\n",
       "      <th>0</th>\n",
       "      <th>1</th>\n",
       "      <th>2</th>\n",
       "      <th>3</th>\n",
       "      <th>4</th>\n",
       "      <th>5</th>\n",
       "      <th>6</th>\n",
       "      <th>7</th>\n",
       "      <th>8</th>\n",
       "      <th>9</th>\n",
       "      <th>...</th>\n",
       "      <th>290</th>\n",
       "      <th>291</th>\n",
       "      <th>292</th>\n",
       "      <th>293</th>\n",
       "      <th>294</th>\n",
       "      <th>295</th>\n",
       "      <th>296</th>\n",
       "      <th>297</th>\n",
       "      <th>298</th>\n",
       "      <th>299</th>\n",
       "    </tr>\n",
       "  </thead>\n",
       "  <tbody>\n",
       "    <tr>\n",
       "      <th>EXCHANGE DATA</th>\n",
       "      <td>EXCHANGE  PRICE   +2 SELL    -2 BUY      VO...</td>\n",
       "      <td>EXCHANGE  PRICE   +2 SELL    -2 BUY      VO...</td>\n",
       "      <td>EXCHANGE  PRICE   +2 SELL    -2 BUY      VO...</td>\n",
       "      <td>EXCHANGE  PRICE   +2 SELL    -2 BUY      VO...</td>\n",
       "      <td>EXCHANGE  PRICE   +2 SELL    -2 BUY      VO...</td>\n",
       "      <td>EXCHANGE  PRICE   +2 SELL    -2 BUY      VO...</td>\n",
       "      <td>EXCHANGE  PRICE   +2 SELL    -2 BUY      VO...</td>\n",
       "      <td>EXCHANGE  PRICE   +2 SELL    -2 BUY      VO...</td>\n",
       "      <td>EXCHANGE  PRICE   +2 SELL    -2 BUY      VO...</td>\n",
       "      <td>EXCHANGE  PRICE   +2 SELL    -2 BUY      VO...</td>\n",
       "      <td>...</td>\n",
       "      <td>EXCHANGE  PRICE   +2 SELL    -2 BUY     VOL...</td>\n",
       "      <td>EXCHANGE  PRICE   +2 SELL    -2 BUY     VOL...</td>\n",
       "      <td>EXCHANGE  PRICE   +2 SELL    -2 BUY     VOL...</td>\n",
       "      <td>EXCHANGE  PRICE   +2 SELL    -2 BUY     VOL...</td>\n",
       "      <td>EXCHANGE  PRICE   +2 SELL    -2 BUY     VOL...</td>\n",
       "      <td>EXCHANGE  PRICE   +2 SELL    -2 BUY     VOL...</td>\n",
       "      <td>EXCHANGE  PRICE   +2 SELL    -2 BUY     VOL...</td>\n",
       "      <td>EXCHANGE  PRICE   +2 SELL    -2 BUY     VOL...</td>\n",
       "      <td>EXCHANGE  PRICE   +2 SELL    -2 BUY     VOL...</td>\n",
       "      <td>EXCHANGE  PRICE   +2 SELL    -2 BUY     VOL...</td>\n",
       "    </tr>\n",
       "    <tr>\n",
       "      <th>TOTAL DEPTH RATIO</th>\n",
       "      <td></td>\n",
       "      <td></td>\n",
       "      <td></td>\n",
       "      <td></td>\n",
       "      <td></td>\n",
       "      <td></td>\n",
       "      <td></td>\n",
       "      <td></td>\n",
       "      <td></td>\n",
       "      <td></td>\n",
       "      <td>...</td>\n",
       "      <td></td>\n",
       "      <td></td>\n",
       "      <td></td>\n",
       "      <td></td>\n",
       "      <td></td>\n",
       "      <td></td>\n",
       "      <td></td>\n",
       "      <td></td>\n",
       "      <td></td>\n",
       "      <td></td>\n",
       "    </tr>\n",
       "    <tr>\n",
       "      <th>DATE</th>\n",
       "      <td>2023-07-11 18:24:33.473937</td>\n",
       "      <td>2023-07-11 18:25:30.788946</td>\n",
       "      <td>2023-07-11 18:26:28.701291</td>\n",
       "      <td>2023-07-11 18:27:25.372355</td>\n",
       "      <td>2023-07-11 18:32:24.854533</td>\n",
       "      <td>2023-07-11 18:33:21.616423</td>\n",
       "      <td>2023-07-11 18:34:19.304262</td>\n",
       "      <td>2023-07-11 18:39:26.264376</td>\n",
       "      <td>2023-07-11 18:40:23.546823</td>\n",
       "      <td>2023-07-11 18:41:20.674323</td>\n",
       "      <td>...</td>\n",
       "      <td>2023-07-11 23:51:51.868003</td>\n",
       "      <td>2023-07-11 23:52:50.170870</td>\n",
       "      <td>2023-07-11 23:57:56.589951</td>\n",
       "      <td>2023-07-11 23:58:54.978144</td>\n",
       "      <td>2023-07-11 23:59:53.591654</td>\n",
       "      <td>2023-07-12 00:00:51.931832</td>\n",
       "      <td>2023-07-12 00:01:50.155853</td>\n",
       "      <td>2023-07-12 00:02:48.306214</td>\n",
       "      <td>2023-07-12 00:03:46.418366</td>\n",
       "      <td>2023-07-12 00:04:44.450811</td>\n",
       "    </tr>\n",
       "  </tbody>\n",
       "</table>\n",
       "<p>3 rows × 300 columns</p>\n",
       "</div>"
      ],
      "text/plain": [
       "                                                                 0    \\\n",
       "EXCHANGE DATA         EXCHANGE  PRICE   +2 SELL    -2 BUY      VO...   \n",
       "TOTAL DEPTH RATIO                                                      \n",
       "DATE                                      2023-07-11 18:24:33.473937   \n",
       "\n",
       "                                                                 1    \\\n",
       "EXCHANGE DATA         EXCHANGE  PRICE   +2 SELL    -2 BUY      VO...   \n",
       "TOTAL DEPTH RATIO                                                      \n",
       "DATE                                      2023-07-11 18:25:30.788946   \n",
       "\n",
       "                                                                 2    \\\n",
       "EXCHANGE DATA         EXCHANGE  PRICE   +2 SELL    -2 BUY      VO...   \n",
       "TOTAL DEPTH RATIO                                                      \n",
       "DATE                                      2023-07-11 18:26:28.701291   \n",
       "\n",
       "                                                                 3    \\\n",
       "EXCHANGE DATA         EXCHANGE  PRICE   +2 SELL    -2 BUY      VO...   \n",
       "TOTAL DEPTH RATIO                                                      \n",
       "DATE                                      2023-07-11 18:27:25.372355   \n",
       "\n",
       "                                                                 4    \\\n",
       "EXCHANGE DATA         EXCHANGE  PRICE   +2 SELL    -2 BUY      VO...   \n",
       "TOTAL DEPTH RATIO                                                      \n",
       "DATE                                      2023-07-11 18:32:24.854533   \n",
       "\n",
       "                                                                 5    \\\n",
       "EXCHANGE DATA         EXCHANGE  PRICE   +2 SELL    -2 BUY      VO...   \n",
       "TOTAL DEPTH RATIO                                                      \n",
       "DATE                                      2023-07-11 18:33:21.616423   \n",
       "\n",
       "                                                                 6    \\\n",
       "EXCHANGE DATA         EXCHANGE  PRICE   +2 SELL    -2 BUY      VO...   \n",
       "TOTAL DEPTH RATIO                                                      \n",
       "DATE                                      2023-07-11 18:34:19.304262   \n",
       "\n",
       "                                                                 7    \\\n",
       "EXCHANGE DATA         EXCHANGE  PRICE   +2 SELL    -2 BUY      VO...   \n",
       "TOTAL DEPTH RATIO                                                      \n",
       "DATE                                      2023-07-11 18:39:26.264376   \n",
       "\n",
       "                                                                 8    \\\n",
       "EXCHANGE DATA         EXCHANGE  PRICE   +2 SELL    -2 BUY      VO...   \n",
       "TOTAL DEPTH RATIO                                                      \n",
       "DATE                                      2023-07-11 18:40:23.546823   \n",
       "\n",
       "                                                                 9    ...  \\\n",
       "EXCHANGE DATA         EXCHANGE  PRICE   +2 SELL    -2 BUY      VO...  ...   \n",
       "TOTAL DEPTH RATIO                                                     ...   \n",
       "DATE                                      2023-07-11 18:41:20.674323  ...   \n",
       "\n",
       "                                                                 290  \\\n",
       "EXCHANGE DATA         EXCHANGE  PRICE   +2 SELL    -2 BUY     VOL...   \n",
       "TOTAL DEPTH RATIO                                                      \n",
       "DATE                                      2023-07-11 23:51:51.868003   \n",
       "\n",
       "                                                                 291  \\\n",
       "EXCHANGE DATA         EXCHANGE  PRICE   +2 SELL    -2 BUY     VOL...   \n",
       "TOTAL DEPTH RATIO                                                      \n",
       "DATE                                      2023-07-11 23:52:50.170870   \n",
       "\n",
       "                                                                 292  \\\n",
       "EXCHANGE DATA         EXCHANGE  PRICE   +2 SELL    -2 BUY     VOL...   \n",
       "TOTAL DEPTH RATIO                                                      \n",
       "DATE                                      2023-07-11 23:57:56.589951   \n",
       "\n",
       "                                                                 293  \\\n",
       "EXCHANGE DATA         EXCHANGE  PRICE   +2 SELL    -2 BUY     VOL...   \n",
       "TOTAL DEPTH RATIO                                                      \n",
       "DATE                                      2023-07-11 23:58:54.978144   \n",
       "\n",
       "                                                                 294  \\\n",
       "EXCHANGE DATA         EXCHANGE  PRICE   +2 SELL    -2 BUY     VOL...   \n",
       "TOTAL DEPTH RATIO                                                      \n",
       "DATE                                      2023-07-11 23:59:53.591654   \n",
       "\n",
       "                                                                 295  \\\n",
       "EXCHANGE DATA         EXCHANGE  PRICE   +2 SELL    -2 BUY     VOL...   \n",
       "TOTAL DEPTH RATIO                                                      \n",
       "DATE                                      2023-07-12 00:00:51.931832   \n",
       "\n",
       "                                                                 296  \\\n",
       "EXCHANGE DATA         EXCHANGE  PRICE   +2 SELL    -2 BUY     VOL...   \n",
       "TOTAL DEPTH RATIO                                                      \n",
       "DATE                                      2023-07-12 00:01:50.155853   \n",
       "\n",
       "                                                                 297  \\\n",
       "EXCHANGE DATA         EXCHANGE  PRICE   +2 SELL    -2 BUY     VOL...   \n",
       "TOTAL DEPTH RATIO                                                      \n",
       "DATE                                      2023-07-12 00:02:48.306214   \n",
       "\n",
       "                                                                 298  \\\n",
       "EXCHANGE DATA         EXCHANGE  PRICE   +2 SELL    -2 BUY     VOL...   \n",
       "TOTAL DEPTH RATIO                                                      \n",
       "DATE                                      2023-07-12 00:03:46.418366   \n",
       "\n",
       "                                                                 299  \n",
       "EXCHANGE DATA         EXCHANGE  PRICE   +2 SELL    -2 BUY     VOL...  \n",
       "TOTAL DEPTH RATIO                                                     \n",
       "DATE                                      2023-07-12 00:04:44.450811  \n",
       "\n",
       "[3 rows x 300 columns]"
      ]
     },
     "execution_count": 12,
     "metadata": {},
     "output_type": "execute_result"
    }
   ],
   "source": [
    "datedExchangeData.T"
   ]
  },
  {
   "cell_type": "markdown",
   "id": "96c62859",
   "metadata": {},
   "source": [
    "<h3>2.1.4 Appending Data With Data Manager</h3>\n",
    "\n",
    "The data manager has two parameters, the data received from the scrapper and the current count of dataFrames appended to datedExchangeData(), this is to avoid losing data from accidental overwrite or index gaps.\n",
    "\n",
    "Regex is used to properly format data before inserting into DataFrame. All number strings are coverted into Floats for later arithmetical use when calculating average prices and other required data for analysis, and the name of the exchange is extracted from the URL through a creative data processing."
   ]
  },
  {
   "cell_type": "code",
   "execution_count": 13,
   "id": "4837e674",
   "metadata": {},
   "outputs": [],
   "source": [
    "def exchangeDataManager(btcExchangeData, dataCounter):\n",
    "    \n",
    "    # Initialises exchangeData dataFrame\n",
    "    exchangeData = createExchangeDataFrame()\n",
    "    \n",
    "    # Iterates through each exchange, like Binance, Okx and so on\n",
    "    for x in range(0,9):\n",
    "        #######################################################################################\n",
    "        # GETS NAME OF THE EXCHANGE BY SLICING THE URL:\n",
    "        \n",
    "        # Gets attributes from TD tag containing the exchange's link\n",
    "        exLink = btcExchangeData[x].find_all('td')[2].find('a').attrs\n",
    "        \n",
    "        # Looks for the end index inside the href link domain extension end start\n",
    "        endIndex = re.search('.com|.net|.io' , exLink['href'][12:]).span()[0]   \n",
    "        \n",
    "        # Reverses string and looks for the start index of the domain name inside the href link\n",
    "        startIndex = re.search('\\/|\\.' , exLink['href'][:12+endIndex][::-1]).span()[0]\n",
    "               \n",
    "        # Slices start and end of link but it's reversed\n",
    "        reversedName = exLink['href'][:12+endIndex][::-1][:startIndex]\n",
    "        #######################################################################################\n",
    "        \n",
    "        # Creates exchange data list and appends exchange name extracted from link\n",
    "        rowData = [reversedName[::-1].upper()]\n",
    "\n",
    "        # Price, market depth and volume data extraction and processing\n",
    "        counter = 0\n",
    "        for y in range(3,7):\n",
    "\n",
    "            # Extracts number data from TD tag, and slices $ off and removes the commas    \n",
    "            numberData = re.sub(r',', \"\", btcExchangeData[x].find_all('td')[y].find_all(string=re.compile(r'\\$'))[0][1:])\n",
    "            rowData.append(int(float(numberData)))\n",
    "\n",
    "            counter = (counter + 1) % 5\n",
    "        # Appends Exchange Name, Price, Market depth and volume for the respective exchange into the dataframe     \n",
    "        exchangeData.loc[x]= rowData\n",
    "    \n",
    "    # Sorts exchangeData by volume, resets index and inserts \n",
    "    # exchangeData dataframe with its timestamp into datedExchangeData\n",
    "    exchangeData = exchangeData.sort_values(by='VOLUME',ascending=False)\n",
    "    exchangeData = exchangeData.reset_index(drop=True)\n",
    "    datedExchangeData.loc[dataCounter] = ''\n",
    "    datedExchangeData.loc[dataCounter][0] = exchangeData.sort_values(by='VOLUME',ascending=False)\n",
    "    datedExchangeData.loc[dataCounter][2] = datetime.now()"
   ]
  },
  {
   "cell_type": "markdown",
   "id": "0e8cc57c",
   "metadata": {},
   "source": [
    "<h3>2.1.5 Automation And Exception Handling</h3>"
   ]
  },
  {
   "cell_type": "markdown",
   "id": "d6a89271",
   "metadata": {},
   "source": [
    "Sometimes CoinDesk's server refuses termporally to give https://coinmarketcap.com/currencies/bitcoin/markets/ and redirects to https://coinmarketcap.com/currencies/bitcoin/ which messes with the button click scripting as the page design is different between the two, this code forces to run recurisvely the data scrapper at the specified amount requested of entries to append, because it's recursive it will keep calling itself until the condition is met, otherwise we would need to be restarting manually and it just becomes a big inconvenience.\n",
    "\n",
    "Because it throws an exception in this case, browser.quit() is not reached at sourceData() method, therefore we use closeBrowser() method to close it when the exception occurs, otherwise it will leave Selenium instances and crash the computer in the worst case scenario.\n",
    "\n",
    "A way to avoid this is to use their API, which would been faster and easier, but I wanted to actually learn how to use Selenium instead as a way to simulate scrapping a page which doesn't have an API available."
   ]
  },
  {
   "cell_type": "code",
   "execution_count": 14,
   "id": "70df2d67",
   "metadata": {
    "scrolled": true
   },
   "outputs": [],
   "source": [
    "def autoLoader(newEntriesNumber):\n",
    "\n",
    "    def forceLoad():\n",
    "        try: \n",
    "            while len(datedExchangeData) !=  targetEntries:\n",
    "                instance = scraper()\n",
    "                exchangeDataManager(instance.sourceData(),len(datedExchangeData))\n",
    "        # Will call function recursively until number of entries is achieved\n",
    "        except: \n",
    "            instance.closeBrowser()\n",
    "            forceLoad()\n",
    "      \n",
    "    targetEntries = len(datedExchangeData) + newEntriesNumber\n",
    "    forceLoad()"
   ]
  },
  {
   "cell_type": "markdown",
   "id": "6d327dfd",
   "metadata": {},
   "source": [
    "Incorporates autoLoader() inside a timeout function, specially made for UoL testing, otherwise it will run indefinitely if it's unable to load correctly the data due the page changing or some server issue and only way to stop it will be by forced kernel restart."
   ]
  },
  {
   "cell_type": "code",
   "execution_count": 15,
   "id": "56c4604a",
   "metadata": {
    "scrolled": false
   },
   "outputs": [
    {
     "name": "stdout",
     "output_type": "stream",
     "text": [
      "SUCCESSFUL DATA SCRAPPING!\n"
     ]
    },
    {
     "data": {
      "text/html": [
       "<div>\n",
       "<style scoped>\n",
       "    .dataframe tbody tr th:only-of-type {\n",
       "        vertical-align: middle;\n",
       "    }\n",
       "\n",
       "    .dataframe tbody tr th {\n",
       "        vertical-align: top;\n",
       "    }\n",
       "\n",
       "    .dataframe thead th {\n",
       "        text-align: right;\n",
       "    }\n",
       "</style>\n",
       "<table border=\"1\" class=\"dataframe\">\n",
       "  <thead>\n",
       "    <tr style=\"text-align: right;\">\n",
       "      <th></th>\n",
       "      <th>EXCHANGE DATA</th>\n",
       "      <th>TOTAL DEPTH RATIO</th>\n",
       "      <th>DATE</th>\n",
       "    </tr>\n",
       "  </thead>\n",
       "  <tbody>\n",
       "    <tr>\n",
       "      <th>299</th>\n",
       "      <td>EXCHANGE  PRICE   +2 SELL    -2 BUY     VOL...</td>\n",
       "      <td></td>\n",
       "      <td>2023-07-12 00:04:44.450811</td>\n",
       "    </tr>\n",
       "    <tr>\n",
       "      <th>300</th>\n",
       "      <td>EXCHANGE  PRICE   +2 SELL    -2 BUY     VOL...</td>\n",
       "      <td></td>\n",
       "      <td>2023-07-16 16:49:05.999416</td>\n",
       "    </tr>\n",
       "  </tbody>\n",
       "</table>\n",
       "</div>"
      ],
      "text/plain": [
       "                                         EXCHANGE DATA TOTAL DEPTH RATIO  \\\n",
       "299     EXCHANGE  PRICE   +2 SELL    -2 BUY     VOL...                     \n",
       "300     EXCHANGE  PRICE   +2 SELL    -2 BUY     VOL...                     \n",
       "\n",
       "                           DATE  \n",
       "299  2023-07-12 00:04:44.450811  \n",
       "300  2023-07-16 16:49:05.999416  "
      ]
     },
     "execution_count": 15,
     "metadata": {},
     "output_type": "execute_result"
    }
   ],
   "source": [
    "def run():\n",
    "    autoLoader(1) # <------------------- Number value = entries to create\n",
    "    print('SUCCESSFUL DATA SCRAPPING!')\n",
    "\n",
    "try: func_timeout(120, run) # <--------- Number value = secs until timeout\n",
    "    \n",
    "except FunctionTimedOut: \n",
    "    print('TIMED OUT SCRAPPING DATA! Page might have changed.')\n",
    "except:                  \n",
    "    print('ERROR: Check connection to server or Selenium configuration.')\n",
    "    \n",
    "datedExchangeData[-2:]"
   ]
  },
  {
   "cell_type": "markdown",
   "id": "f4d9acd2",
   "metadata": {},
   "source": [
    "To maintain the integrity of my analysis and ensure proper visualization of the results, it is needed to remove the additional entry created by the previous code. By using the original data which I analysed, we can avoid any disruptions or inconsistencies caused by the gap in data. This will help maintain accuracy and allow for a valid and meaningful visual interpretation of my analysis when reviewed later."
   ]
  },
  {
   "cell_type": "code",
   "execution_count": 16,
   "id": "4f708c5a",
   "metadata": {},
   "outputs": [
    {
     "data": {
      "text/html": [
       "<div>\n",
       "<style scoped>\n",
       "    .dataframe tbody tr th:only-of-type {\n",
       "        vertical-align: middle;\n",
       "    }\n",
       "\n",
       "    .dataframe tbody tr th {\n",
       "        vertical-align: top;\n",
       "    }\n",
       "\n",
       "    .dataframe thead th {\n",
       "        text-align: right;\n",
       "    }\n",
       "</style>\n",
       "<table border=\"1\" class=\"dataframe\">\n",
       "  <thead>\n",
       "    <tr style=\"text-align: right;\">\n",
       "      <th></th>\n",
       "      <th>EXCHANGE DATA</th>\n",
       "      <th>TOTAL DEPTH RATIO</th>\n",
       "      <th>DATE</th>\n",
       "    </tr>\n",
       "  </thead>\n",
       "  <tbody>\n",
       "    <tr>\n",
       "      <th>298</th>\n",
       "      <td>EXCHANGE  PRICE   +2 SELL    -2 BUY     VOL...</td>\n",
       "      <td></td>\n",
       "      <td>2023-07-12 00:03:46.418366</td>\n",
       "    </tr>\n",
       "    <tr>\n",
       "      <th>299</th>\n",
       "      <td>EXCHANGE  PRICE   +2 SELL    -2 BUY     VOL...</td>\n",
       "      <td></td>\n",
       "      <td>2023-07-12 00:04:44.450811</td>\n",
       "    </tr>\n",
       "  </tbody>\n",
       "</table>\n",
       "</div>"
      ],
      "text/plain": [
       "                                         EXCHANGE DATA TOTAL DEPTH RATIO  \\\n",
       "298     EXCHANGE  PRICE   +2 SELL    -2 BUY     VOL...                     \n",
       "299     EXCHANGE  PRICE   +2 SELL    -2 BUY     VOL...                     \n",
       "\n",
       "                           DATE  \n",
       "298  2023-07-12 00:03:46.418366  \n",
       "299  2023-07-12 00:04:44.450811  "
      ]
     },
     "execution_count": 16,
     "metadata": {},
     "output_type": "execute_result"
    }
   ],
   "source": [
    "datedExchangeData = backupExchangeData.copy()\n",
    "datedExchangeData[-2:]"
   ]
  },
  {
   "cell_type": "markdown",
   "id": "9dd68420",
   "metadata": {},
   "source": [
    "<h2>2.2 Market Depth Data Managers</h2>"
   ]
  },
  {
   "cell_type": "markdown",
   "id": "2fe76eca",
   "metadata": {},
   "source": [
    "The function calculateTotalDepthRatio() calculates market buy vs. sell pressure by adding up all buy orders vs the sell orders in the ±2% range of the current price. It returns buy orders and sell order amount converted into BTC and the ratio of them both. The ratio value will be used later on to see the changing buy vs. sell pressures over a period of time graphically."
   ]
  },
  {
   "cell_type": "code",
   "execution_count": 17,
   "id": "f04d5180",
   "metadata": {},
   "outputs": [],
   "source": [
    "def calculateTotalDepthRatio(datedExchangeDataIndex):\n",
    "    \n",
    "    # Imports specific exchangeData dataframe from datedExchangeData\n",
    "    data = datedExchangeData.iloc[datedExchangeDataIndex][0]\n",
    "    # Sums up all buy  orders quantity adjust for 2% off from the average and divides by the average price\n",
    "    buy  = data[ '-2 BUY'].sum() * 0.98 / data['PRICE'].mean()\n",
    "    # Sums up all sell orders quantity adjust for 2% more from the average and divides by the average price\n",
    "    sell = data['+2 SELL'].sum() * 1.02 / data['PRICE'].mean()\n",
    "\n",
    "    # Calculates ratio and appends it to the datedExchangeDataframe\n",
    "    total = buy + sell\n",
    "    ratio = buy / total\n",
    "    datedExchangeData.iloc[datedExchangeDataIndex]['TOTAL DEPTH RATIO'] = ratio\n",
    "    \n",
    "    return int(buy),int(sell)"
   ]
  },
  {
   "cell_type": "code",
   "execution_count": 18,
   "id": "60edc509",
   "metadata": {
    "scrolled": true
   },
   "outputs": [
    {
     "data": {
      "text/html": [
       "<div>\n",
       "<style scoped>\n",
       "    .dataframe tbody tr th:only-of-type {\n",
       "        vertical-align: middle;\n",
       "    }\n",
       "\n",
       "    .dataframe tbody tr th {\n",
       "        vertical-align: top;\n",
       "    }\n",
       "\n",
       "    .dataframe thead th {\n",
       "        text-align: right;\n",
       "    }\n",
       "</style>\n",
       "<table border=\"1\" class=\"dataframe\">\n",
       "  <thead>\n",
       "    <tr style=\"text-align: right;\">\n",
       "      <th></th>\n",
       "      <th>0</th>\n",
       "      <th>1</th>\n",
       "      <th>2</th>\n",
       "      <th>3</th>\n",
       "      <th>4</th>\n",
       "      <th>5</th>\n",
       "      <th>6</th>\n",
       "      <th>7</th>\n",
       "      <th>8</th>\n",
       "      <th>9</th>\n",
       "      <th>...</th>\n",
       "      <th>290</th>\n",
       "      <th>291</th>\n",
       "      <th>292</th>\n",
       "      <th>293</th>\n",
       "      <th>294</th>\n",
       "      <th>295</th>\n",
       "      <th>296</th>\n",
       "      <th>297</th>\n",
       "      <th>298</th>\n",
       "      <th>299</th>\n",
       "    </tr>\n",
       "  </thead>\n",
       "  <tbody>\n",
       "    <tr>\n",
       "      <th>EXCHANGE DATA</th>\n",
       "      <td>EXCHANGE  PRICE   +2 SELL    -2 BUY      VO...</td>\n",
       "      <td>EXCHANGE  PRICE   +2 SELL    -2 BUY      VO...</td>\n",
       "      <td>EXCHANGE  PRICE   +2 SELL    -2 BUY      VO...</td>\n",
       "      <td>EXCHANGE  PRICE   +2 SELL    -2 BUY      VO...</td>\n",
       "      <td>EXCHANGE  PRICE   +2 SELL    -2 BUY      VO...</td>\n",
       "      <td>EXCHANGE  PRICE   +2 SELL    -2 BUY      VO...</td>\n",
       "      <td>EXCHANGE  PRICE   +2 SELL    -2 BUY      VO...</td>\n",
       "      <td>EXCHANGE  PRICE   +2 SELL    -2 BUY      VO...</td>\n",
       "      <td>EXCHANGE  PRICE   +2 SELL    -2 BUY      VO...</td>\n",
       "      <td>EXCHANGE  PRICE   +2 SELL    -2 BUY      VO...</td>\n",
       "      <td>...</td>\n",
       "      <td>EXCHANGE  PRICE   +2 SELL    -2 BUY     VOL...</td>\n",
       "      <td>EXCHANGE  PRICE   +2 SELL    -2 BUY     VOL...</td>\n",
       "      <td>EXCHANGE  PRICE   +2 SELL    -2 BUY     VOL...</td>\n",
       "      <td>EXCHANGE  PRICE   +2 SELL    -2 BUY     VOL...</td>\n",
       "      <td>EXCHANGE  PRICE   +2 SELL    -2 BUY     VOL...</td>\n",
       "      <td>EXCHANGE  PRICE   +2 SELL    -2 BUY     VOL...</td>\n",
       "      <td>EXCHANGE  PRICE   +2 SELL    -2 BUY     VOL...</td>\n",
       "      <td>EXCHANGE  PRICE   +2 SELL    -2 BUY     VOL...</td>\n",
       "      <td>EXCHANGE  PRICE   +2 SELL    -2 BUY     VOL...</td>\n",
       "      <td>EXCHANGE  PRICE   +2 SELL    -2 BUY     VOL...</td>\n",
       "    </tr>\n",
       "    <tr>\n",
       "      <th>TOTAL DEPTH RATIO</th>\n",
       "      <td>0.461625</td>\n",
       "      <td>0.461625</td>\n",
       "      <td>0.461625</td>\n",
       "      <td>0.461625</td>\n",
       "      <td>0.491822</td>\n",
       "      <td>0.491822</td>\n",
       "      <td>0.491822</td>\n",
       "      <td>0.462566</td>\n",
       "      <td>0.462566</td>\n",
       "      <td>0.462566</td>\n",
       "      <td>...</td>\n",
       "      <td>0.50241</td>\n",
       "      <td>0.50241</td>\n",
       "      <td>0.49255</td>\n",
       "      <td>0.49255</td>\n",
       "      <td>0.49255</td>\n",
       "      <td>0.49255</td>\n",
       "      <td>0.49255</td>\n",
       "      <td>0.49255</td>\n",
       "      <td>0.460046</td>\n",
       "      <td>0.460046</td>\n",
       "    </tr>\n",
       "    <tr>\n",
       "      <th>DATE</th>\n",
       "      <td>2023-07-11 18:24:33.473937</td>\n",
       "      <td>2023-07-11 18:25:30.788946</td>\n",
       "      <td>2023-07-11 18:26:28.701291</td>\n",
       "      <td>2023-07-11 18:27:25.372355</td>\n",
       "      <td>2023-07-11 18:32:24.854533</td>\n",
       "      <td>2023-07-11 18:33:21.616423</td>\n",
       "      <td>2023-07-11 18:34:19.304262</td>\n",
       "      <td>2023-07-11 18:39:26.264376</td>\n",
       "      <td>2023-07-11 18:40:23.546823</td>\n",
       "      <td>2023-07-11 18:41:20.674323</td>\n",
       "      <td>...</td>\n",
       "      <td>2023-07-11 23:51:51.868003</td>\n",
       "      <td>2023-07-11 23:52:50.170870</td>\n",
       "      <td>2023-07-11 23:57:56.589951</td>\n",
       "      <td>2023-07-11 23:58:54.978144</td>\n",
       "      <td>2023-07-11 23:59:53.591654</td>\n",
       "      <td>2023-07-12 00:00:51.931832</td>\n",
       "      <td>2023-07-12 00:01:50.155853</td>\n",
       "      <td>2023-07-12 00:02:48.306214</td>\n",
       "      <td>2023-07-12 00:03:46.418366</td>\n",
       "      <td>2023-07-12 00:04:44.450811</td>\n",
       "    </tr>\n",
       "  </tbody>\n",
       "</table>\n",
       "<p>3 rows × 300 columns</p>\n",
       "</div>"
      ],
      "text/plain": [
       "                                                                 0    \\\n",
       "EXCHANGE DATA         EXCHANGE  PRICE   +2 SELL    -2 BUY      VO...   \n",
       "TOTAL DEPTH RATIO                                           0.461625   \n",
       "DATE                                      2023-07-11 18:24:33.473937   \n",
       "\n",
       "                                                                 1    \\\n",
       "EXCHANGE DATA         EXCHANGE  PRICE   +2 SELL    -2 BUY      VO...   \n",
       "TOTAL DEPTH RATIO                                           0.461625   \n",
       "DATE                                      2023-07-11 18:25:30.788946   \n",
       "\n",
       "                                                                 2    \\\n",
       "EXCHANGE DATA         EXCHANGE  PRICE   +2 SELL    -2 BUY      VO...   \n",
       "TOTAL DEPTH RATIO                                           0.461625   \n",
       "DATE                                      2023-07-11 18:26:28.701291   \n",
       "\n",
       "                                                                 3    \\\n",
       "EXCHANGE DATA         EXCHANGE  PRICE   +2 SELL    -2 BUY      VO...   \n",
       "TOTAL DEPTH RATIO                                           0.461625   \n",
       "DATE                                      2023-07-11 18:27:25.372355   \n",
       "\n",
       "                                                                 4    \\\n",
       "EXCHANGE DATA         EXCHANGE  PRICE   +2 SELL    -2 BUY      VO...   \n",
       "TOTAL DEPTH RATIO                                           0.491822   \n",
       "DATE                                      2023-07-11 18:32:24.854533   \n",
       "\n",
       "                                                                 5    \\\n",
       "EXCHANGE DATA         EXCHANGE  PRICE   +2 SELL    -2 BUY      VO...   \n",
       "TOTAL DEPTH RATIO                                           0.491822   \n",
       "DATE                                      2023-07-11 18:33:21.616423   \n",
       "\n",
       "                                                                 6    \\\n",
       "EXCHANGE DATA         EXCHANGE  PRICE   +2 SELL    -2 BUY      VO...   \n",
       "TOTAL DEPTH RATIO                                           0.491822   \n",
       "DATE                                      2023-07-11 18:34:19.304262   \n",
       "\n",
       "                                                                 7    \\\n",
       "EXCHANGE DATA         EXCHANGE  PRICE   +2 SELL    -2 BUY      VO...   \n",
       "TOTAL DEPTH RATIO                                           0.462566   \n",
       "DATE                                      2023-07-11 18:39:26.264376   \n",
       "\n",
       "                                                                 8    \\\n",
       "EXCHANGE DATA         EXCHANGE  PRICE   +2 SELL    -2 BUY      VO...   \n",
       "TOTAL DEPTH RATIO                                           0.462566   \n",
       "DATE                                      2023-07-11 18:40:23.546823   \n",
       "\n",
       "                                                                 9    ...  \\\n",
       "EXCHANGE DATA         EXCHANGE  PRICE   +2 SELL    -2 BUY      VO...  ...   \n",
       "TOTAL DEPTH RATIO                                           0.462566  ...   \n",
       "DATE                                      2023-07-11 18:41:20.674323  ...   \n",
       "\n",
       "                                                                 290  \\\n",
       "EXCHANGE DATA         EXCHANGE  PRICE   +2 SELL    -2 BUY     VOL...   \n",
       "TOTAL DEPTH RATIO                                            0.50241   \n",
       "DATE                                      2023-07-11 23:51:51.868003   \n",
       "\n",
       "                                                                 291  \\\n",
       "EXCHANGE DATA         EXCHANGE  PRICE   +2 SELL    -2 BUY     VOL...   \n",
       "TOTAL DEPTH RATIO                                            0.50241   \n",
       "DATE                                      2023-07-11 23:52:50.170870   \n",
       "\n",
       "                                                                 292  \\\n",
       "EXCHANGE DATA         EXCHANGE  PRICE   +2 SELL    -2 BUY     VOL...   \n",
       "TOTAL DEPTH RATIO                                            0.49255   \n",
       "DATE                                      2023-07-11 23:57:56.589951   \n",
       "\n",
       "                                                                 293  \\\n",
       "EXCHANGE DATA         EXCHANGE  PRICE   +2 SELL    -2 BUY     VOL...   \n",
       "TOTAL DEPTH RATIO                                            0.49255   \n",
       "DATE                                      2023-07-11 23:58:54.978144   \n",
       "\n",
       "                                                                 294  \\\n",
       "EXCHANGE DATA         EXCHANGE  PRICE   +2 SELL    -2 BUY     VOL...   \n",
       "TOTAL DEPTH RATIO                                            0.49255   \n",
       "DATE                                      2023-07-11 23:59:53.591654   \n",
       "\n",
       "                                                                 295  \\\n",
       "EXCHANGE DATA         EXCHANGE  PRICE   +2 SELL    -2 BUY     VOL...   \n",
       "TOTAL DEPTH RATIO                                            0.49255   \n",
       "DATE                                      2023-07-12 00:00:51.931832   \n",
       "\n",
       "                                                                 296  \\\n",
       "EXCHANGE DATA         EXCHANGE  PRICE   +2 SELL    -2 BUY     VOL...   \n",
       "TOTAL DEPTH RATIO                                            0.49255   \n",
       "DATE                                      2023-07-12 00:01:50.155853   \n",
       "\n",
       "                                                                 297  \\\n",
       "EXCHANGE DATA         EXCHANGE  PRICE   +2 SELL    -2 BUY     VOL...   \n",
       "TOTAL DEPTH RATIO                                            0.49255   \n",
       "DATE                                      2023-07-12 00:02:48.306214   \n",
       "\n",
       "                                                                 298  \\\n",
       "EXCHANGE DATA         EXCHANGE  PRICE   +2 SELL    -2 BUY     VOL...   \n",
       "TOTAL DEPTH RATIO                                           0.460046   \n",
       "DATE                                      2023-07-12 00:03:46.418366   \n",
       "\n",
       "                                                                 299  \n",
       "EXCHANGE DATA         EXCHANGE  PRICE   +2 SELL    -2 BUY     VOL...  \n",
       "TOTAL DEPTH RATIO                                           0.460046  \n",
       "DATE                                      2023-07-12 00:04:44.450811  \n",
       "\n",
       "[3 rows x 300 columns]"
      ]
     },
     "execution_count": 18,
     "metadata": {},
     "output_type": "execute_result"
    }
   ],
   "source": [
    "for x in range(len(datedExchangeData)): calculateTotalDepthRatio(x) \n",
    "\n",
    "datedExchangeData.T"
   ]
  },
  {
   "cell_type": "markdown",
   "id": "2f2bd76d",
   "metadata": {},
   "source": [
    "The function multipleDepthDataManager() is very similar to calculateTotalDepthRatio() but the data returned here is to visualize each individual exchange buy vs sell pressure. It will allows us to visually compare how traders are behaving across different exchanges.\n",
    "\n",
    "To streamline our analysis, we will focus exclusively on the top six exchanges in terms of traded volume. The traded volume on these exchanges significantly surpasses that of any additional exchanges, rendering the volumes of the latter negligible for consideration. By concentrating on the most influential exchanges, we can obtain a more accurate and meaningful representation of the market dynamics."
   ]
  },
  {
   "cell_type": "code",
   "execution_count": 19,
   "id": "2491378d",
   "metadata": {},
   "outputs": [],
   "source": [
    "def multipleDepthDataManager(exchangeData):\n",
    "    # Data lists to return\n",
    "    label   = []\n",
    "    ratio   = []\n",
    "    buyBTC  = []\n",
    "    sellBTC = []\n",
    "    \n",
    "    # For each exchange, 6 top exchanges by volume\n",
    "    for x in range(0,6):\n",
    "        \n",
    "        # Appends name of exchange\n",
    "        label.append(exchangeData[x][0])\n",
    "        \n",
    "        # Calculates buy and sell order size in BTC\n",
    "        buyAmount  = int(exchangeData[x][3]/(exchangeData[x][1]*0.98))\n",
    "        sellAmount = int(exchangeData[x][2]/(exchangeData[x][1]*1.02))\n",
    "        \n",
    "        # Calculates and appends ratio\n",
    "        total = buyAmount + sellAmount        \n",
    "        ratio.append(buyAmount/total)\n",
    "\n",
    "        # Appends buy and sell amounts of BTC into list\n",
    "        buyBTC.append(f'BUY {buyAmount} BTC')\n",
    "        sellBTC.append(f'SELL {sellAmount} BTC')\n",
    "        \n",
    "    return [label, ratio, buyBTC, sellBTC]"
   ]
  },
  {
   "cell_type": "code",
   "execution_count": 20,
   "id": "00ed07d4",
   "metadata": {
    "scrolled": false
   },
   "outputs": [
    {
     "data": {
      "text/plain": [
       "[['BINANCE', 'OKX', 'BYBIT', 'KUCOIN', 'COINBASE', 'BITFINEX'],\n",
       " [0.538235294117647,\n",
       "  0.4396378269617706,\n",
       "  0.5727650727650727,\n",
       "  0.3970037453183521,\n",
       "  0.6166666666666667,\n",
       "  0.39036144578313253],\n",
       " ['BUY 915 BTC',\n",
       "  'BUY 874 BTC',\n",
       "  'BUY 551 BTC',\n",
       "  'BUY 424 BTC',\n",
       "  'BUY 74 BTC',\n",
       "  'BUY 162 BTC'],\n",
       " ['SELL 785 BTC',\n",
       "  'SELL 1114 BTC',\n",
       "  'SELL 411 BTC',\n",
       "  'SELL 644 BTC',\n",
       "  'SELL 46 BTC',\n",
       "  'SELL 253 BTC']]"
      ]
     },
     "execution_count": 20,
     "metadata": {},
     "output_type": "execute_result"
    }
   ],
   "source": [
    "multipleDepthDataManager(datedExchangeData.iloc[-1][0].iloc)"
   ]
  },
  {
   "cell_type": "markdown",
   "id": "90a102b9",
   "metadata": {},
   "source": [
    "<h2>2.3 Articles Sourcing And Processing</h2>"
   ]
  },
  {
   "cell_type": "markdown",
   "id": "540dc0e2",
   "metadata": {},
   "source": [
    "<h3>2.3.1 Articles DataFrame</h3>\n",
    "\n",
    "Initialises the Articles Dataframe. Same as with the Exchange Data dataFrame, the dataFrame allows for easy access to important values which we will be working with and allows export into CSV for offline backups."
   ]
  },
  {
   "cell_type": "code",
   "execution_count": 21,
   "id": "b7d84b13",
   "metadata": {},
   "outputs": [
    {
     "data": {
      "text/html": [
       "<div>\n",
       "<style scoped>\n",
       "    .dataframe tbody tr th:only-of-type {\n",
       "        vertical-align: middle;\n",
       "    }\n",
       "\n",
       "    .dataframe tbody tr th {\n",
       "        vertical-align: top;\n",
       "    }\n",
       "\n",
       "    .dataframe thead th {\n",
       "        text-align: right;\n",
       "    }\n",
       "</style>\n",
       "<table border=\"1\" class=\"dataframe\">\n",
       "  <thead>\n",
       "    <tr style=\"text-align: right;\">\n",
       "      <th></th>\n",
       "      <th>Editor</th>\n",
       "      <th>URL</th>\n",
       "      <th>Raw article</th>\n",
       "      <th>Lemmatised article</th>\n",
       "      <th>Bull word count</th>\n",
       "      <th>Bear word count</th>\n",
       "      <th>Sentiment ratio</th>\n",
       "      <th>8 most frequent words</th>\n",
       "    </tr>\n",
       "  </thead>\n",
       "  <tbody>\n",
       "  </tbody>\n",
       "</table>\n",
       "</div>"
      ],
      "text/plain": [
       "Empty DataFrame\n",
       "Columns: [Editor, URL, Raw article, Lemmatised article, Bull word count, Bear word count, Sentiment ratio, 8 most frequent words]\n",
       "Index: []"
      ]
     },
     "execution_count": 21,
     "metadata": {},
     "output_type": "execute_result"
    }
   ],
   "source": [
    "articleData = {\n",
    "                   'Editor': [],\n",
    "                      'URL': [], \n",
    "              'Raw article': [],\n",
    "       'Lemmatised article': [],\n",
    "          'Bull word count': [],     \n",
    "          'Bear word count': [],     \n",
    "          'Sentiment ratio': [],\n",
    "    '8 most frequent words': [],\n",
    "}\n",
    "articles = pd.DataFrame(articleData)\n",
    "articles"
   ]
  },
  {
   "cell_type": "markdown",
   "id": "43ac91a8",
   "metadata": {},
   "source": [
    "<h3>2.3.2 CoinDesk Link Sourcing Function</h3>\n",
    "\n",
    "Creates article URL entries into Articles dataFrame using Selenium, later on, the content of each article will be extracted using sourceCoindeskArticle()"
   ]
  },
  {
   "cell_type": "code",
   "execution_count": 22,
   "id": "80db3731",
   "metadata": {
    "scrolled": true
   },
   "outputs": [],
   "source": [
    "def sourceCoindeskLinks(x):  \n",
    "    # Runs browser  \n",
    "    url = \"https://www.coindesk.com/tag/bitcoin/\"+str(x)+\"/\"\n",
    "    browser = webdriver.Chrome(executable_path= dirPath + \"\\selenium.exe\")\n",
    "\n",
    "    # Loads page\n",
    "    print(\"Loading\", url)\n",
    "    browser.get(url)\n",
    "    \n",
    "    # Parses raw body content\n",
    "    time.sleep(1)\n",
    "    rawData = browser.find_elements(By.XPATH, '/html/body')\n",
    "    parsedData = BeautifulSoup(str(rawData[0].get_attribute(\"innerHTML\")),\n",
    "                                                            \"html.parser\")\n",
    "    browser.quit()\n",
    "\n",
    "    # Creates entries and saves links into dataframe\n",
    "    articleCount = len(articles)\n",
    "    for x in range(0,10):\n",
    "        entryIndex = x + articleCount\n",
    "        articles.loc[entryIndex] = ''\n",
    "        articles.loc[entryIndex][0] = 'COINDESK'\n",
    "        \n",
    "        subdirectory = parsedData.find_all('a',class_='card-title')[x]['href']\n",
    "        articles.loc[entryIndex][1] = 'https://www.coindesk.com' + subdirectory"
   ]
  },
  {
   "cell_type": "code",
   "execution_count": 23,
   "id": "efb20413",
   "metadata": {
    "scrolled": true
   },
   "outputs": [
    {
     "name": "stdout",
     "output_type": "stream",
     "text": [
      "Loading https://www.coindesk.com/tag/bitcoin/1/\n",
      "Loading https://www.coindesk.com/tag/bitcoin/2/\n"
     ]
    }
   ],
   "source": [
    "try:\n",
    "    for x in range(1,3): sourceCoindeskLinks(x)\n",
    "    articles.URL\n",
    "except:\n",
    "    print('ERROR: Check connection to server or Selenium configuration.')"
   ]
  },
  {
   "cell_type": "markdown",
   "id": "d202e6a7",
   "metadata": {},
   "source": [
    "<h3>2.3.3 Function To Source CoinDesk Articles</h3>\n",
    "\n",
    "Inspecting article design in CoinDesk led to the obsevation that is always between two specific P tags, by targetting their class name, we get the indices, which then are used as a range limiter for the P tags which contain the articles text.\n",
    "\n",
    "If the article is a podcast or a Spanish article, it will be removed automatically and the dataFrame updated."
   ]
  },
  {
   "cell_type": "code",
   "execution_count": 24,
   "id": "b6eba448",
   "metadata": {
    "scrolled": true
   },
   "outputs": [],
   "source": [
    "def sourceCoindeskArticle(entryIndex, url):\n",
    "    \n",
    "    # Gets html data and parses it\n",
    "    rawData = requests.get(url ,headers).text\n",
    "    parsedData = BeautifulSoup(rawData, \"html.parser\")\n",
    "\n",
    "    # Gets all P tags\n",
    "    pTags =  parsedData.find_all('p')\n",
    "    \n",
    "    # Finds the tags which are going to act as limiters, and the article data is between the limiters\n",
    "    upperLimit = parsedData.find(class_=\"hjHKEC\")\n",
    "    lowerLimit = parsedData.find(class_=\"bbBZOc\")\n",
    "    \n",
    "    # CoinDesk always uses for articles the same structure, any deviation means that is a podcast or \n",
    "    # or a Spanish article which has no usefulness for our article\n",
    "    if upperLimit == None or lowerLimit == None:\n",
    "        \n",
    "        print('Incompatible or missing page, dropping',url+'\\n')\n",
    "        return\n",
    "    \n",
    "    # Finds the index number of the limiters in the sense of which P tag are they\n",
    "    limitersIndex = []\n",
    "    for x in range(len(pTags)):\n",
    "\n",
    "        if pTags[x] == upperLimit:        limitersIndex.append(x+1)  \n",
    "        if pTags[x] == lowerLimit.parent: limitersIndex.append(x-2)\n",
    "            \n",
    "    # Same as before any deviation or inability to get the indeces means podcast or Spanish article\n",
    "    if len(limitersIndex) != 2:\n",
    "\n",
    "        print('Incompatible or missing page, dropping',url+'\\n')\n",
    "        return\n",
    "    \n",
    "    # Creates list of all P tags between the limiters\n",
    "    pTagsRequired = []\n",
    "    for x in range(limitersIndex[0]+1, limitersIndex[1]):\n",
    "\n",
    "        pTagsRequired.append(pTags[x])\n",
    "\n",
    "    # Saves the article text content of those respective P tags\n",
    "    article = ''\n",
    "    for pTag in pTagsRequired:\n",
    "        article = article + ' ' + pTag.get_text().lstrip().rstrip()\n",
    "        \n",
    "    # Appends the raw article\n",
    "    articles.loc[entryIndex][2] = article"
   ]
  },
  {
   "cell_type": "code",
   "execution_count": 25,
   "id": "4f47eeb4",
   "metadata": {
    "scrolled": true
   },
   "outputs": [
    {
     "name": "stdout",
     "output_type": "stream",
     "text": [
      "Incompatible or missing page, dropping https://www.coindesk.com/podcasts/markets-daily/featured-story-the-real-use-case-for-cbdcs-dethroning-the-dollar/\n",
      "\n",
      "Incompatible or missing page, dropping https://www.coindesk.com/podcasts/markets-daily/featured-story-why-did-celsius-go-up-in-flames-alex-mashinsky-built-celsius-a-house-of-cards/\n",
      "\n",
      "Incompatible or missing page, dropping https://www.coindesk.com/podcasts/markets-daily/featured-story-the-big-robert-f-kennedy-jr-bitcoin-nothingburger/\n",
      "\n",
      "Incompatible or missing page, dropping https://www.coindesk.com/podcasts/markets-daily/crypto-update-crypto-markets-positive-after-us-inflation-report/\n",
      "\n",
      "Incompatible or missing page, dropping https://www.coindesk.com/video/bitcoin-reaction-as-inflation-eases-could-elon-musk-rival-chatgpt-next/\n",
      "\n"
     ]
    }
   ],
   "source": [
    "# Sources all articles within the link list sourced\n",
    "try:\n",
    "    for x in range(len(articles)):\n",
    "        sourceCoindeskArticle(x, articles.loc[x][1])\n",
    "\n",
    "        # If any article is rejected, for example because it's a podcast, the whole entry gets removed from the dataframe\n",
    "        if articles.loc[x][2] == '':\n",
    "            articles = articles.drop(x)\n",
    "\n",
    "    articles = articles.reset_index(drop=True)\n",
    "    articles['Raw article']\n",
    "except:\n",
    "    print('ERROR: Check connection to server and requests module installation, or page structure might have changed.')    "
   ]
  },
  {
   "cell_type": "markdown",
   "id": "b748e3d4",
   "metadata": {},
   "source": [
    "As with the exchange data, it is necessary to prevent any interference with the subsequent article analysis by new entries in the dataFrame, therefore we exclude the new data, and we load the offline backup data which is used from now on.\n"
   ]
  },
  {
   "cell_type": "code",
   "execution_count": 26,
   "id": "cab85ee8",
   "metadata": {
    "scrolled": true
   },
   "outputs": [
    {
     "data": {
      "text/plain": [
       "0      Bitcoin (BTC) has failed twice this week to e...\n",
       "1      Good morning. Here’s what’s happening: Prices...\n",
       "2      U.S. consumer prices rose 0.2% in June, beati...\n",
       "3      Bitcoin (BTC) investors received what should ...\n",
       "4      Two wallets tagged as belonging to the U.S. g...\n",
       "5      The core CPI, which strips out volatile food ...\n",
       "6      Bitcoin (BTC) is trading slightly higher on W...\n",
       "7      Berenberg raised its bitcoin (BTC) price fore...\n",
       "8      Higher bitcoin prices means MicroStrategy has...\n",
       "9      \"Bollinger bands are tight. How tight? Squeez...\n",
       "10     Prices: What's going to move bitcoin away fro...\n",
       "11     This year has been strong for bitcoin, with p...\n",
       "12     Even though billionaire investor and venture ...\n",
       "13     Reportedly, presidential candidate Robert F. ...\n",
       "14     The moment finance giant BlackRock filed to c...\n",
       "15     The discount to net asset value (NAV) for the...\n",
       "16     London-based financial services platform Mare...\n",
       "17     “The cryptocurrency’s price began to rally in...\n",
       "18     Activity in Bitcoin Ordinals NFTs, a method o...\n",
       "19     After a week of key jobs reports, inflation d...\n",
       "20     Good morning. Here’s what’s happening: Prices...\n",
       "21     Bitcoin returned briefly on Monday to its rec...\n",
       "22     Last month, Apple (AAPL) threatened to remove...\n",
       "Name: Raw article, dtype: object"
      ]
     },
     "execution_count": 26,
     "metadata": {},
     "output_type": "execute_result"
    }
   ],
   "source": [
    "# Import offline copy of articles \n",
    "articles = pd.DataFrame(articleData)\n",
    "imported = pd.read_csv('articles.csv')\n",
    "\n",
    "for x in range(len(imported)):\n",
    "    articles.loc[x] = ''\n",
    "    articles.loc[x][0] = imported.iloc[x][0]\n",
    "    articles.loc[x][1] = imported.iloc[x][1]\n",
    "    articles.loc[x][2] = imported.iloc[x][2]\n",
    "    \n",
    "articles['Raw article']"
   ]
  },
  {
   "cell_type": "markdown",
   "id": "5ec27387",
   "metadata": {},
   "source": [
    "<h2>2.4 Article processing and lemmatising</h2>\n",
    "\n",
    "To improve the analysis the article will be made into small capital letters, also special characters will be removed and any words which are irrelevant to the frequency analysis as they do not provide any new information.\n",
    "\n",
    "Also I realised that the WordNet lematiser does not really do a good job unless each word has POS category argument specified, so this had to be implemented."
   ]
  },
  {
   "cell_type": "code",
   "execution_count": 27,
   "id": "ef3edae7",
   "metadata": {},
   "outputs": [],
   "source": [
    "def lemmatiser(entryIndex, rawArticle):\n",
    "    \n",
    "    # Convert to lowercase\n",
    "    rawArticle = rawArticle.lower()\n",
    "    \n",
    "    # Remove special characters and unnecessary words\n",
    "    redundantCharacters = ['.','’',',','\\'','\\\"','`','“','”','—','–','-',\n",
    "                           '?','!',':',';','(',')','$','%', '`', ' s ',\n",
    "                           '0', '1', '2', '3', '4', '5','6','7','8','9',\n",
    "                           'bitcoin','currency','market','crypto','btc',\n",
    "                           'digital','asset','coindesk','price', 'week']\n",
    "                          \n",
    "    for character in redundantCharacters: rawArticle = rawArticle.replace(character, '') \n",
    "\n",
    "    # Makes article into tokens and finds respective NLTK part-of-speech tagging\n",
    "    rawTokens = nltk.word_tokenize(rawArticle)\n",
    "    nltkTokens = nltk.pos_tag(rawTokens)\n",
    "                                        \n",
    "    # Converts the NLTK pos tag into wordnet category                                    \n",
    "    def findCategory(nltkPosTag):\n",
    "        \n",
    "        if   nltkPosTag.startswith('J'):\n",
    "            return wordnet.ADJ                                 \n",
    "        elif nltkPosTag.startswith('N'):                \n",
    "            return wordnet.NOUN              \n",
    "        elif nltkPosTag.startswith('R'):\n",
    "            return wordnet.ADV\n",
    "        elif nltkPosTag.startswith('V'):\n",
    "            return wordnet.VERB\n",
    "        else:         \n",
    "            return None\n",
    "        \n",
    "    # Creates list with tokens properly categorised using findCategory()\n",
    "    categorisedToken = []\n",
    "    for token, nltkPosTag in nltkTokens: categorisedToken.append([token,\n",
    "                                                                  findCategory(nltkPosTag)]) \n",
    "    # Lemmatises all tokens using the proper category \n",
    "    lemArticle = []\n",
    "    for token, category in categorisedToken:\n",
    "     \n",
    "        if category is None:\n",
    "            lemArticle.append(token)   \n",
    "        else:                                                        \n",
    "            lemArticle.append(WordNetLemmatizer().lemmatize(token, category))\n",
    "    \n",
    "    # Joins all tokens with a space in between and appends it as lemmatised article to dataFrame             \n",
    "    lemArticle = \" \".join(lemArticle) \n",
    "    articles.loc[entryIndex][3] = lemArticle"
   ]
  },
  {
   "cell_type": "code",
   "execution_count": 28,
   "id": "90eab06b",
   "metadata": {
    "scrolled": true
   },
   "outputs": [
    {
     "data": {
      "text/plain": [
       "0     have fail twice this to establish a foothold a...\n",
       "1     good morning here whats happen s after a morni...\n",
       "2     us consumer s rise in june beating expectation...\n",
       "3     investor receive what should have be welcome e...\n",
       "4     two wallet tag as belonging to the us governme...\n",
       "5     the core cpi which strip out volatile food and...\n",
       "6     be trade slightly high on wednesday ahead of t...\n",
       "7     berenberg raise its forecast for april to the ...\n",
       "8     high s mean microstrategy have a strong balanc...\n",
       "9     bollinger band be tight how tight squeeze of t...\n",
       "10    s whats go to move away from insight a freely ...\n",
       "11    this year have be strong for with s up year to...\n",
       "12    even though billionaire investor and venture c...\n",
       "13    reportedly presidential candidate robert f ken...\n",
       "14    the moment finance giant blackrock file to cre...\n",
       "15    the discount to net value nav for the billionp...\n",
       "16    londonbased financial service platform marex h...\n",
       "17    the s begin to rally in earnest about six mont...\n",
       "18    activity in ordinal nfts a method of generate ...\n",
       "19    after a of key job report inflation data be re...\n",
       "20    good morning here whats happen s continue to s...\n",
       "21    return briefly on monday to its recent lofty h...\n",
       "22    last month apple aapl threaten to remove the f...\n",
       "Name: Lemmatised article, dtype: object"
      ]
     },
     "execution_count": 28,
     "metadata": {},
     "output_type": "execute_result"
    }
   ],
   "source": [
    "for x in range(len(articles)): lemmatiser(x, articles.iloc[x][2])\n",
    "\n",
    "articles['Lemmatised article']"
   ]
  },
  {
   "cell_type": "markdown",
   "id": "3a388d77",
   "metadata": {},
   "source": [
    "<h2>2.5 Bulls vs Bear Keyword Counter</h2>\n",
    "\n",
    "This just counts how many times bull or bear keywords occur, then it can be used on bar graph as this is useful indicator to see if the news are positve or negative. "
   ]
  },
  {
   "cell_type": "code",
   "execution_count": 29,
   "id": "c5773120",
   "metadata": {},
   "outputs": [],
   "source": [
    "def bullBearCounters(entryIndex, lemArticle):\n",
    "    \n",
    "    # Counts bull keywords and appends count to dataFrame\n",
    "    bullKeywords = ['bull','surge','spike','up','rally',\n",
    "                           'buy','approve','ETF','jump']\n",
    "    bullCounter = 0\n",
    "    for keyword in bullKeywords: bullCounter += lemArticle.count(keyword)\n",
    "            \n",
    "    articles.loc[entryIndex][4] = bullCounter\n",
    "    \n",
    "    # Counts bear keywords and appends count to dataFrame\n",
    "    bearKeywords = ['tumble','SEC','fell','drop','decline','suspend',\n",
    "                            'thight','crash','loss','setback','bear']\n",
    "    bearCounter = 0          \n",
    "    for keyword in bearKeywords: bearCounter += lemArticle.count(keyword)\n",
    "               \n",
    "    articles.loc[entryIndex][5] = bearCounter"
   ]
  },
  {
   "cell_type": "code",
   "execution_count": 30,
   "id": "4a3360da",
   "metadata": {
    "scrolled": true
   },
   "outputs": [
    {
     "data": {
      "text/plain": [
       "array([2, 12, 4, 4, 0, 0, 5, 2, 2, 3, 7, 4, 4, 8, 3, 4, 3, 7, 4, 1, 11, 9,\n",
       "       1], dtype=object)"
      ]
     },
     "execution_count": 30,
     "metadata": {},
     "output_type": "execute_result"
    }
   ],
   "source": [
    "for x in range(len(articles)): bullBearCounters(x, articles.iloc[x][3])\n",
    "\n",
    "articles['Bull word count'].values"
   ]
  },
  {
   "cell_type": "code",
   "execution_count": 31,
   "id": "4dabf374",
   "metadata": {},
   "outputs": [
    {
     "data": {
      "text/plain": [
       "array([4, 4, 3, 1, 1, 2, 0, 0, 1, 4, 1, 0, 1, 0, 1, 2, 1, 2, 1, 3, 2, 1,\n",
       "       0], dtype=object)"
      ]
     },
     "execution_count": 31,
     "metadata": {},
     "output_type": "execute_result"
    }
   ],
   "source": [
    "articles['Bear word count'].values"
   ]
  },
  {
   "cell_type": "markdown",
   "id": "a879914e",
   "metadata": {},
   "source": [
    "<h2>2.6 Sentiment Ratio</h2>\n",
    "\n",
    "This code will analyse the sentiment of the article and the values will be used to get a ratio value which will be used to plot a bar of postive vs. negative sentiment."
   ]
  },
  {
   "cell_type": "code",
   "execution_count": 32,
   "id": "61a7eea3",
   "metadata": {},
   "outputs": [],
   "source": [
    "def calculateSentimentRatio(entryIndex, lemArticle):\n",
    "    # Runs sentiment scores\n",
    "    sentimentValues = SentimentIntensityAnalyzer().polarity_scores(lemArticle)\n",
    "    # Calculates ratio based on values\n",
    "    postive  = sentimentValues['pos']\n",
    "    negative = sentimentValues['neg']\n",
    "    total = postive + negative\n",
    "    ratio = postive / total\n",
    "    # Appends ratio to dataFrame\n",
    "    articles.loc[entryIndex][6] = ratio"
   ]
  },
  {
   "cell_type": "code",
   "execution_count": 33,
   "id": "5646ebe5",
   "metadata": {
    "scrolled": true
   },
   "outputs": [
    {
     "data": {
      "text/plain": [
       "array([0.7391304347826088, 0.7218543046357616, 0.6666666666666666,\n",
       "       0.6333333333333333, 0.39999999999999997, 0.7954545454545454,\n",
       "       0.8367346938775511, 1.0, 0.5515873015873016, 0.44999999999999996,\n",
       "       0.75, 0.9135135135135136, 0.5656565656565656, 0.6934673366834171,\n",
       "       0.7675675675675675, 0.5779816513761468, 0.5149253731343284,\n",
       "       0.8675496688741723, 0.9042553191489362, 0.676470588235294,\n",
       "       0.5909090909090909, 0.7532467532467533, 0.4709302325581396],\n",
       "      dtype=object)"
      ]
     },
     "execution_count": 33,
     "metadata": {},
     "output_type": "execute_result"
    }
   ],
   "source": [
    "for x in range(len(articles)): calculateSentimentRatio(x, articles.iloc[x][3])\n",
    "\n",
    "articles['Sentiment ratio'].values"
   ]
  },
  {
   "cell_type": "markdown",
   "id": "ccfdad55",
   "metadata": {},
   "source": [
    "<h2>2.7 Find Word Frequency</h2>\n",
    "\n",
    "Basic counter to see frequency of each different word in an article, it will allow to understand the topic of the article faster by just seeing the main words repeated. WARNING: This can take quite a few minutes to complete."
   ]
  },
  {
   "cell_type": "code",
   "execution_count": 34,
   "id": "75e5f723",
   "metadata": {},
   "outputs": [],
   "source": [
    "def mostFrequentWords(entryIndex, lemArticle):\n",
    "    # Article into lowerase\n",
    "    lemArticle = lemArticle.lower()\n",
    "    # Tokenises article\n",
    "    withStopWords = nltk.tokenize.word_tokenize(lemArticle) \n",
    "    # Removes stopwords\n",
    "    noStopWords   = [x for x in withStopWords if not x in stopwords.words()] \n",
    "    # Calculates frequency of each different token\n",
    "    articles.loc[entryIndex][7] = nltk.FreqDist(noStopWords).most_common(8)"
   ]
  },
  {
   "cell_type": "code",
   "execution_count": 35,
   "id": "329d2d2e",
   "metadata": {
    "scrolled": true
   },
   "outputs": [
    {
     "data": {
      "text/plain": [
       "0     [(future, 4), (open, 4), (interest, 4), (utc, ...\n",
       "1     [(security, 13), (massad, 8), (investor, 8), (...\n",
       "2     [(inflation, 6), (cpi, 6), (expectation, 4), (...\n",
       "3     [(inflation, 10), (report, 6), (cpi, 4), (data...\n",
       "4     [(wallet, 3), (government, 3), (million, 3), (...\n",
       "5     [(core, 3), (rate, 3), (cpi, 2), (forecast, 2)...\n",
       "6     [(ark, 6), (etf, 5), (share, 4), (coin, 4), (a...\n",
       "7     [(value, 5), (estimate, 4), (business, 4), (ra...\n",
       "8     [(debt, 8), (microstrategy, 4), (report, 4), (...\n",
       "9     [(band, 12), (volatility, 7), (bollinger, 6), ...\n",
       "10    [(yuan, 7), (rate, 6), (control, 6), (taiwan, ...\n",
       "11    [(average, 6), (daily, 5), (july, 5), (high, 5...\n",
       "12    [(draper, 5), (great, 3), (investor, 2), (june...\n",
       "13    [(kennedy, 6), (hold, 6), (investment, 6), (in...\n",
       "14    [(etf, 10), (exchange, 8), (agreement, 7), (in...\n",
       "15    [(arkham, 3), (monday, 3), (wallet, 3), (user,...\n",
       "16    [(strategy, 9), (dxy, 8), (volatility, 7), (ex...\n",
       "17    [(rally, 4), (halving, 4), (microstrategy, 4),...\n",
       "18    [(inscription, 10), (ordinal, 6), (token, 5), ...\n",
       "19    [(job, 5), (june, 4), (cpi, 4), (report, 3), (...\n",
       "20    [(binanceus, 7), (data, 7), (exchange, 7), (li...\n",
       "21    [(write, 6), (rise, 5), (recently, 4), (invest...\n",
       "22    [(apple, 12), (damus, 10), (zap, 10), (post, 8...\n",
       "Name: 8 most frequent words, dtype: object"
      ]
     },
     "execution_count": 35,
     "metadata": {},
     "output_type": "execute_result"
    }
   ],
   "source": [
    "for x in range(len(articles)): mostFrequentWords(x, articles.iloc[x][3])\n",
    "\n",
    "articles['8 most frequent words']"
   ]
  },
  {
   "cell_type": "markdown",
   "id": "26b39c6e",
   "metadata": {},
   "source": [
    "This code merges the frequency lists, this will allow us to analyse what is the current topic in the Bitcoin community, this saves us time from having to read each article or their frequency individually if we want to get the main picture of what are the market moving news if we been away from following current events. We will focus on the main 13 most frequent words as it becomes overwhelming to visualise a bigger quantity and also of low analytical value."
   ]
  },
  {
   "cell_type": "code",
   "execution_count": 36,
   "id": "016fcd8e",
   "metadata": {},
   "outputs": [],
   "source": [
    "def wordFrequencyListsMerger(wordFrequencyLists):\n",
    "    # Appends into dictionary each different word and how many times it occurs for every article frequency list\n",
    "    mergedListsDictionary = {}\n",
    "    for list in wordFrequencyLists:\n",
    "        for name, value in list:\n",
    "            if name in mergedListsDictionary:\n",
    "                mergedListsDictionary[name] += value \n",
    "            else:\n",
    "                mergedListsDictionary[name]  = value\n",
    "    # Makes dictionary into list\n",
    "    dictionaryToList = [(word,value) for word,value in mergedListsDictionary.items()]\n",
    "    # Sort words so that the most frequent stay at the top\n",
    "    sortedList = sorted(dictionaryToList, key=lambda x: x[1], reverse=True)\n",
    "    # Returns the first 13 most common words\n",
    "    return sortedList[0:13]"
   ]
  },
  {
   "cell_type": "code",
   "execution_count": 37,
   "id": "53f34fa5",
   "metadata": {
    "scrolled": true
   },
   "outputs": [
    {
     "name": "stdout",
     "output_type": "stream",
     "text": [
      "[('inflation', 28), ('cpi', 27), ('data', 26), ('exchange', 22), ('etf', 19), ('report', 16), ('rate', 15), ('june', 15), ('investor', 14), ('volatility', 14), ('security', 13), ('band', 12), ('apple', 12)]\n"
     ]
    }
   ],
   "source": [
    "globalWordFrequencyList =  wordFrequencyListsMerger(articles['8 most frequent words'].tolist())\n",
    "\n",
    "print(globalWordFrequencyList)"
   ]
  },
  {
   "cell_type": "markdown",
   "id": "91eb708c",
   "metadata": {},
   "source": [
    "  "
   ]
  },
  {
   "cell_type": "markdown",
   "id": "f990db14",
   "metadata": {},
   "source": [
    "We can now observe how a filled Article dataFrame looks like:"
   ]
  },
  {
   "cell_type": "code",
   "execution_count": 38,
   "id": "7f1c2cf0",
   "metadata": {
    "scrolled": false
   },
   "outputs": [
    {
     "data": {
      "text/html": [
       "<div>\n",
       "<style scoped>\n",
       "    .dataframe tbody tr th:only-of-type {\n",
       "        vertical-align: middle;\n",
       "    }\n",
       "\n",
       "    .dataframe tbody tr th {\n",
       "        vertical-align: top;\n",
       "    }\n",
       "\n",
       "    .dataframe thead th {\n",
       "        text-align: right;\n",
       "    }\n",
       "</style>\n",
       "<table border=\"1\" class=\"dataframe\">\n",
       "  <thead>\n",
       "    <tr style=\"text-align: right;\">\n",
       "      <th></th>\n",
       "      <th>0</th>\n",
       "      <th>1</th>\n",
       "      <th>2</th>\n",
       "      <th>3</th>\n",
       "      <th>4</th>\n",
       "      <th>5</th>\n",
       "      <th>6</th>\n",
       "      <th>7</th>\n",
       "      <th>8</th>\n",
       "      <th>9</th>\n",
       "      <th>...</th>\n",
       "      <th>13</th>\n",
       "      <th>14</th>\n",
       "      <th>15</th>\n",
       "      <th>16</th>\n",
       "      <th>17</th>\n",
       "      <th>18</th>\n",
       "      <th>19</th>\n",
       "      <th>20</th>\n",
       "      <th>21</th>\n",
       "      <th>22</th>\n",
       "    </tr>\n",
       "  </thead>\n",
       "  <tbody>\n",
       "    <tr>\n",
       "      <th>Editor</th>\n",
       "      <td>COINDESK</td>\n",
       "      <td>COINDESK</td>\n",
       "      <td>COINDESK</td>\n",
       "      <td>COINDESK</td>\n",
       "      <td>COINDESK</td>\n",
       "      <td>COINDESK</td>\n",
       "      <td>COINDESK</td>\n",
       "      <td>COINDESK</td>\n",
       "      <td>COINDESK</td>\n",
       "      <td>COINDESK</td>\n",
       "      <td>...</td>\n",
       "      <td>COINDESK</td>\n",
       "      <td>COINDESK</td>\n",
       "      <td>COINDESK</td>\n",
       "      <td>COINDESK</td>\n",
       "      <td>COINDESK</td>\n",
       "      <td>COINDESK</td>\n",
       "      <td>COINDESK</td>\n",
       "      <td>COINDESK</td>\n",
       "      <td>COINDESK</td>\n",
       "      <td>COINDESK</td>\n",
       "    </tr>\n",
       "    <tr>\n",
       "      <th>URL</th>\n",
       "      <td>https://www.coindesk.com/markets/2023/07/13/bi...</td>\n",
       "      <td>https://www.coindesk.com/markets/2023/07/13/fi...</td>\n",
       "      <td>https://www.coindesk.com/markets/2023/07/12/bi...</td>\n",
       "      <td>https://www.coindesk.com/markets/2023/07/12/ev...</td>\n",
       "      <td>https://www.coindesk.com/business/2023/07/12/u...</td>\n",
       "      <td>https://www.coindesk.com/business/2023/07/12/u...</td>\n",
       "      <td>https://www.coindesk.com/markets/2023/07/12/fi...</td>\n",
       "      <td>https://www.coindesk.com/markets/2023/07/12/bi...</td>\n",
       "      <td>https://www.coindesk.com/business/2023/07/12/m...</td>\n",
       "      <td>https://www.coindesk.com/markets/2023/07/12/cr...</td>\n",
       "      <td>...</td>\n",
       "      <td>https://www.coindesk.com/consensus-magazine/20...</td>\n",
       "      <td>https://www.coindesk.com/business/2023/07/11/b...</td>\n",
       "      <td>https://www.coindesk.com/markets/2023/07/11/fi...</td>\n",
       "      <td>https://www.coindesk.com/markets/2023/07/11/ma...</td>\n",
       "      <td>https://www.coindesk.com/business/2023/07/11/m...</td>\n",
       "      <td>https://www.coindesk.com/markets/2023/07/11/bi...</td>\n",
       "      <td>https://www.coindesk.com/markets/2023/07/11/cr...</td>\n",
       "      <td>https://www.coindesk.com/markets/2023/07/11/fi...</td>\n",
       "      <td>https://www.coindesk.com/markets/2023/07/10/bi...</td>\n",
       "      <td>https://www.coindesk.com/tech/2023/07/10/apple...</td>\n",
       "    </tr>\n",
       "    <tr>\n",
       "      <th>Raw article</th>\n",
       "      <td>Bitcoin (BTC) has failed twice this week to e...</td>\n",
       "      <td>Good morning. Here’s what’s happening: Prices...</td>\n",
       "      <td>U.S. consumer prices rose 0.2% in June, beati...</td>\n",
       "      <td>Bitcoin (BTC) investors received what should ...</td>\n",
       "      <td>Two wallets tagged as belonging to the U.S. g...</td>\n",
       "      <td>The core CPI, which strips out volatile food ...</td>\n",
       "      <td>Bitcoin (BTC) is trading slightly higher on W...</td>\n",
       "      <td>Berenberg raised its bitcoin (BTC) price fore...</td>\n",
       "      <td>Higher bitcoin prices means MicroStrategy has...</td>\n",
       "      <td>\"Bollinger bands are tight. How tight? Squeez...</td>\n",
       "      <td>...</td>\n",
       "      <td>Reportedly, presidential candidate Robert F. ...</td>\n",
       "      <td>The moment finance giant BlackRock filed to c...</td>\n",
       "      <td>The discount to net asset value (NAV) for the...</td>\n",
       "      <td>London-based financial services platform Mare...</td>\n",
       "      <td>“The cryptocurrency’s price began to rally in...</td>\n",
       "      <td>Activity in Bitcoin Ordinals NFTs, a method o...</td>\n",
       "      <td>After a week of key jobs reports, inflation d...</td>\n",
       "      <td>Good morning. Here’s what’s happening: Prices...</td>\n",
       "      <td>Bitcoin returned briefly on Monday to its rec...</td>\n",
       "      <td>Last month, Apple (AAPL) threatened to remove...</td>\n",
       "    </tr>\n",
       "    <tr>\n",
       "      <th>Lemmatised article</th>\n",
       "      <td>have fail twice this to establish a foothold a...</td>\n",
       "      <td>good morning here whats happen s after a morni...</td>\n",
       "      <td>us consumer s rise in june beating expectation...</td>\n",
       "      <td>investor receive what should have be welcome e...</td>\n",
       "      <td>two wallet tag as belonging to the us governme...</td>\n",
       "      <td>the core cpi which strip out volatile food and...</td>\n",
       "      <td>be trade slightly high on wednesday ahead of t...</td>\n",
       "      <td>berenberg raise its forecast for april to the ...</td>\n",
       "      <td>high s mean microstrategy have a strong balanc...</td>\n",
       "      <td>bollinger band be tight how tight squeeze of t...</td>\n",
       "      <td>...</td>\n",
       "      <td>reportedly presidential candidate robert f ken...</td>\n",
       "      <td>the moment finance giant blackrock file to cre...</td>\n",
       "      <td>the discount to net value nav for the billionp...</td>\n",
       "      <td>londonbased financial service platform marex h...</td>\n",
       "      <td>the s begin to rally in earnest about six mont...</td>\n",
       "      <td>activity in ordinal nfts a method of generate ...</td>\n",
       "      <td>after a of key job report inflation data be re...</td>\n",
       "      <td>good morning here whats happen s continue to s...</td>\n",
       "      <td>return briefly on monday to its recent lofty h...</td>\n",
       "      <td>last month apple aapl threaten to remove the f...</td>\n",
       "    </tr>\n",
       "    <tr>\n",
       "      <th>Bull word count</th>\n",
       "      <td>2</td>\n",
       "      <td>12</td>\n",
       "      <td>4</td>\n",
       "      <td>4</td>\n",
       "      <td>0</td>\n",
       "      <td>0</td>\n",
       "      <td>5</td>\n",
       "      <td>2</td>\n",
       "      <td>2</td>\n",
       "      <td>3</td>\n",
       "      <td>...</td>\n",
       "      <td>8</td>\n",
       "      <td>3</td>\n",
       "      <td>4</td>\n",
       "      <td>3</td>\n",
       "      <td>7</td>\n",
       "      <td>4</td>\n",
       "      <td>1</td>\n",
       "      <td>11</td>\n",
       "      <td>9</td>\n",
       "      <td>1</td>\n",
       "    </tr>\n",
       "    <tr>\n",
       "      <th>Bear word count</th>\n",
       "      <td>4</td>\n",
       "      <td>4</td>\n",
       "      <td>3</td>\n",
       "      <td>1</td>\n",
       "      <td>1</td>\n",
       "      <td>2</td>\n",
       "      <td>0</td>\n",
       "      <td>0</td>\n",
       "      <td>1</td>\n",
       "      <td>4</td>\n",
       "      <td>...</td>\n",
       "      <td>0</td>\n",
       "      <td>1</td>\n",
       "      <td>2</td>\n",
       "      <td>1</td>\n",
       "      <td>2</td>\n",
       "      <td>1</td>\n",
       "      <td>3</td>\n",
       "      <td>2</td>\n",
       "      <td>1</td>\n",
       "      <td>0</td>\n",
       "    </tr>\n",
       "    <tr>\n",
       "      <th>Sentiment ratio</th>\n",
       "      <td>0.73913</td>\n",
       "      <td>0.721854</td>\n",
       "      <td>0.666667</td>\n",
       "      <td>0.633333</td>\n",
       "      <td>0.4</td>\n",
       "      <td>0.795455</td>\n",
       "      <td>0.836735</td>\n",
       "      <td>1.0</td>\n",
       "      <td>0.551587</td>\n",
       "      <td>0.45</td>\n",
       "      <td>...</td>\n",
       "      <td>0.693467</td>\n",
       "      <td>0.767568</td>\n",
       "      <td>0.577982</td>\n",
       "      <td>0.514925</td>\n",
       "      <td>0.86755</td>\n",
       "      <td>0.904255</td>\n",
       "      <td>0.676471</td>\n",
       "      <td>0.590909</td>\n",
       "      <td>0.753247</td>\n",
       "      <td>0.47093</td>\n",
       "    </tr>\n",
       "    <tr>\n",
       "      <th>8 most frequent words</th>\n",
       "      <td>[(future, 4), (open, 4), (interest, 4), (utc, ...</td>\n",
       "      <td>[(security, 13), (massad, 8), (investor, 8), (...</td>\n",
       "      <td>[(inflation, 6), (cpi, 6), (expectation, 4), (...</td>\n",
       "      <td>[(inflation, 10), (report, 6), (cpi, 4), (data...</td>\n",
       "      <td>[(wallet, 3), (government, 3), (million, 3), (...</td>\n",
       "      <td>[(core, 3), (rate, 3), (cpi, 2), (forecast, 2)...</td>\n",
       "      <td>[(ark, 6), (etf, 5), (share, 4), (coin, 4), (a...</td>\n",
       "      <td>[(value, 5), (estimate, 4), (business, 4), (ra...</td>\n",
       "      <td>[(debt, 8), (microstrategy, 4), (report, 4), (...</td>\n",
       "      <td>[(band, 12), (volatility, 7), (bollinger, 6), ...</td>\n",
       "      <td>...</td>\n",
       "      <td>[(kennedy, 6), (hold, 6), (investment, 6), (in...</td>\n",
       "      <td>[(etf, 10), (exchange, 8), (agreement, 7), (in...</td>\n",
       "      <td>[(arkham, 3), (monday, 3), (wallet, 3), (user,...</td>\n",
       "      <td>[(strategy, 9), (dxy, 8), (volatility, 7), (ex...</td>\n",
       "      <td>[(rally, 4), (halving, 4), (microstrategy, 4),...</td>\n",
       "      <td>[(inscription, 10), (ordinal, 6), (token, 5), ...</td>\n",
       "      <td>[(job, 5), (june, 4), (cpi, 4), (report, 3), (...</td>\n",
       "      <td>[(binanceus, 7), (data, 7), (exchange, 7), (li...</td>\n",
       "      <td>[(write, 6), (rise, 5), (recently, 4), (invest...</td>\n",
       "      <td>[(apple, 12), (damus, 10), (zap, 10), (post, 8...</td>\n",
       "    </tr>\n",
       "  </tbody>\n",
       "</table>\n",
       "<p>8 rows × 23 columns</p>\n",
       "</div>"
      ],
      "text/plain": [
       "                                                                      0   \\\n",
       "Editor                                                          COINDESK   \n",
       "URL                    https://www.coindesk.com/markets/2023/07/13/bi...   \n",
       "Raw article             Bitcoin (BTC) has failed twice this week to e...   \n",
       "Lemmatised article     have fail twice this to establish a foothold a...   \n",
       "Bull word count                                                        2   \n",
       "Bear word count                                                        4   \n",
       "Sentiment ratio                                                  0.73913   \n",
       "8 most frequent words  [(future, 4), (open, 4), (interest, 4), (utc, ...   \n",
       "\n",
       "                                                                      1   \\\n",
       "Editor                                                          COINDESK   \n",
       "URL                    https://www.coindesk.com/markets/2023/07/13/fi...   \n",
       "Raw article             Good morning. Here’s what’s happening: Prices...   \n",
       "Lemmatised article     good morning here whats happen s after a morni...   \n",
       "Bull word count                                                       12   \n",
       "Bear word count                                                        4   \n",
       "Sentiment ratio                                                 0.721854   \n",
       "8 most frequent words  [(security, 13), (massad, 8), (investor, 8), (...   \n",
       "\n",
       "                                                                      2   \\\n",
       "Editor                                                          COINDESK   \n",
       "URL                    https://www.coindesk.com/markets/2023/07/12/bi...   \n",
       "Raw article             U.S. consumer prices rose 0.2% in June, beati...   \n",
       "Lemmatised article     us consumer s rise in june beating expectation...   \n",
       "Bull word count                                                        4   \n",
       "Bear word count                                                        3   \n",
       "Sentiment ratio                                                 0.666667   \n",
       "8 most frequent words  [(inflation, 6), (cpi, 6), (expectation, 4), (...   \n",
       "\n",
       "                                                                      3   \\\n",
       "Editor                                                          COINDESK   \n",
       "URL                    https://www.coindesk.com/markets/2023/07/12/ev...   \n",
       "Raw article             Bitcoin (BTC) investors received what should ...   \n",
       "Lemmatised article     investor receive what should have be welcome e...   \n",
       "Bull word count                                                        4   \n",
       "Bear word count                                                        1   \n",
       "Sentiment ratio                                                 0.633333   \n",
       "8 most frequent words  [(inflation, 10), (report, 6), (cpi, 4), (data...   \n",
       "\n",
       "                                                                      4   \\\n",
       "Editor                                                          COINDESK   \n",
       "URL                    https://www.coindesk.com/business/2023/07/12/u...   \n",
       "Raw article             Two wallets tagged as belonging to the U.S. g...   \n",
       "Lemmatised article     two wallet tag as belonging to the us governme...   \n",
       "Bull word count                                                        0   \n",
       "Bear word count                                                        1   \n",
       "Sentiment ratio                                                      0.4   \n",
       "8 most frequent words  [(wallet, 3), (government, 3), (million, 3), (...   \n",
       "\n",
       "                                                                      5   \\\n",
       "Editor                                                          COINDESK   \n",
       "URL                    https://www.coindesk.com/business/2023/07/12/u...   \n",
       "Raw article             The core CPI, which strips out volatile food ...   \n",
       "Lemmatised article     the core cpi which strip out volatile food and...   \n",
       "Bull word count                                                        0   \n",
       "Bear word count                                                        2   \n",
       "Sentiment ratio                                                 0.795455   \n",
       "8 most frequent words  [(core, 3), (rate, 3), (cpi, 2), (forecast, 2)...   \n",
       "\n",
       "                                                                      6   \\\n",
       "Editor                                                          COINDESK   \n",
       "URL                    https://www.coindesk.com/markets/2023/07/12/fi...   \n",
       "Raw article             Bitcoin (BTC) is trading slightly higher on W...   \n",
       "Lemmatised article     be trade slightly high on wednesday ahead of t...   \n",
       "Bull word count                                                        5   \n",
       "Bear word count                                                        0   \n",
       "Sentiment ratio                                                 0.836735   \n",
       "8 most frequent words  [(ark, 6), (etf, 5), (share, 4), (coin, 4), (a...   \n",
       "\n",
       "                                                                      7   \\\n",
       "Editor                                                          COINDESK   \n",
       "URL                    https://www.coindesk.com/markets/2023/07/12/bi...   \n",
       "Raw article             Berenberg raised its bitcoin (BTC) price fore...   \n",
       "Lemmatised article     berenberg raise its forecast for april to the ...   \n",
       "Bull word count                                                        2   \n",
       "Bear word count                                                        0   \n",
       "Sentiment ratio                                                      1.0   \n",
       "8 most frequent words  [(value, 5), (estimate, 4), (business, 4), (ra...   \n",
       "\n",
       "                                                                      8   \\\n",
       "Editor                                                          COINDESK   \n",
       "URL                    https://www.coindesk.com/business/2023/07/12/m...   \n",
       "Raw article             Higher bitcoin prices means MicroStrategy has...   \n",
       "Lemmatised article     high s mean microstrategy have a strong balanc...   \n",
       "Bull word count                                                        2   \n",
       "Bear word count                                                        1   \n",
       "Sentiment ratio                                                 0.551587   \n",
       "8 most frequent words  [(debt, 8), (microstrategy, 4), (report, 4), (...   \n",
       "\n",
       "                                                                      9   ...  \\\n",
       "Editor                                                          COINDESK  ...   \n",
       "URL                    https://www.coindesk.com/markets/2023/07/12/cr...  ...   \n",
       "Raw article             \"Bollinger bands are tight. How tight? Squeez...  ...   \n",
       "Lemmatised article     bollinger band be tight how tight squeeze of t...  ...   \n",
       "Bull word count                                                        3  ...   \n",
       "Bear word count                                                        4  ...   \n",
       "Sentiment ratio                                                     0.45  ...   \n",
       "8 most frequent words  [(band, 12), (volatility, 7), (bollinger, 6), ...  ...   \n",
       "\n",
       "                                                                      13  \\\n",
       "Editor                                                          COINDESK   \n",
       "URL                    https://www.coindesk.com/consensus-magazine/20...   \n",
       "Raw article             Reportedly, presidential candidate Robert F. ...   \n",
       "Lemmatised article     reportedly presidential candidate robert f ken...   \n",
       "Bull word count                                                        8   \n",
       "Bear word count                                                        0   \n",
       "Sentiment ratio                                                 0.693467   \n",
       "8 most frequent words  [(kennedy, 6), (hold, 6), (investment, 6), (in...   \n",
       "\n",
       "                                                                      14  \\\n",
       "Editor                                                          COINDESK   \n",
       "URL                    https://www.coindesk.com/business/2023/07/11/b...   \n",
       "Raw article             The moment finance giant BlackRock filed to c...   \n",
       "Lemmatised article     the moment finance giant blackrock file to cre...   \n",
       "Bull word count                                                        3   \n",
       "Bear word count                                                        1   \n",
       "Sentiment ratio                                                 0.767568   \n",
       "8 most frequent words  [(etf, 10), (exchange, 8), (agreement, 7), (in...   \n",
       "\n",
       "                                                                      15  \\\n",
       "Editor                                                          COINDESK   \n",
       "URL                    https://www.coindesk.com/markets/2023/07/11/fi...   \n",
       "Raw article             The discount to net asset value (NAV) for the...   \n",
       "Lemmatised article     the discount to net value nav for the billionp...   \n",
       "Bull word count                                                        4   \n",
       "Bear word count                                                        2   \n",
       "Sentiment ratio                                                 0.577982   \n",
       "8 most frequent words  [(arkham, 3), (monday, 3), (wallet, 3), (user,...   \n",
       "\n",
       "                                                                      16  \\\n",
       "Editor                                                          COINDESK   \n",
       "URL                    https://www.coindesk.com/markets/2023/07/11/ma...   \n",
       "Raw article             London-based financial services platform Mare...   \n",
       "Lemmatised article     londonbased financial service platform marex h...   \n",
       "Bull word count                                                        3   \n",
       "Bear word count                                                        1   \n",
       "Sentiment ratio                                                 0.514925   \n",
       "8 most frequent words  [(strategy, 9), (dxy, 8), (volatility, 7), (ex...   \n",
       "\n",
       "                                                                      17  \\\n",
       "Editor                                                          COINDESK   \n",
       "URL                    https://www.coindesk.com/business/2023/07/11/m...   \n",
       "Raw article             “The cryptocurrency’s price began to rally in...   \n",
       "Lemmatised article     the s begin to rally in earnest about six mont...   \n",
       "Bull word count                                                        7   \n",
       "Bear word count                                                        2   \n",
       "Sentiment ratio                                                  0.86755   \n",
       "8 most frequent words  [(rally, 4), (halving, 4), (microstrategy, 4),...   \n",
       "\n",
       "                                                                      18  \\\n",
       "Editor                                                          COINDESK   \n",
       "URL                    https://www.coindesk.com/markets/2023/07/11/bi...   \n",
       "Raw article             Activity in Bitcoin Ordinals NFTs, a method o...   \n",
       "Lemmatised article     activity in ordinal nfts a method of generate ...   \n",
       "Bull word count                                                        4   \n",
       "Bear word count                                                        1   \n",
       "Sentiment ratio                                                 0.904255   \n",
       "8 most frequent words  [(inscription, 10), (ordinal, 6), (token, 5), ...   \n",
       "\n",
       "                                                                      19  \\\n",
       "Editor                                                          COINDESK   \n",
       "URL                    https://www.coindesk.com/markets/2023/07/11/cr...   \n",
       "Raw article             After a week of key jobs reports, inflation d...   \n",
       "Lemmatised article     after a of key job report inflation data be re...   \n",
       "Bull word count                                                        1   \n",
       "Bear word count                                                        3   \n",
       "Sentiment ratio                                                 0.676471   \n",
       "8 most frequent words  [(job, 5), (june, 4), (cpi, 4), (report, 3), (...   \n",
       "\n",
       "                                                                      20  \\\n",
       "Editor                                                          COINDESK   \n",
       "URL                    https://www.coindesk.com/markets/2023/07/11/fi...   \n",
       "Raw article             Good morning. Here’s what’s happening: Prices...   \n",
       "Lemmatised article     good morning here whats happen s continue to s...   \n",
       "Bull word count                                                       11   \n",
       "Bear word count                                                        2   \n",
       "Sentiment ratio                                                 0.590909   \n",
       "8 most frequent words  [(binanceus, 7), (data, 7), (exchange, 7), (li...   \n",
       "\n",
       "                                                                      21  \\\n",
       "Editor                                                          COINDESK   \n",
       "URL                    https://www.coindesk.com/markets/2023/07/10/bi...   \n",
       "Raw article             Bitcoin returned briefly on Monday to its rec...   \n",
       "Lemmatised article     return briefly on monday to its recent lofty h...   \n",
       "Bull word count                                                        9   \n",
       "Bear word count                                                        1   \n",
       "Sentiment ratio                                                 0.753247   \n",
       "8 most frequent words  [(write, 6), (rise, 5), (recently, 4), (invest...   \n",
       "\n",
       "                                                                      22  \n",
       "Editor                                                          COINDESK  \n",
       "URL                    https://www.coindesk.com/tech/2023/07/10/apple...  \n",
       "Raw article             Last month, Apple (AAPL) threatened to remove...  \n",
       "Lemmatised article     last month apple aapl threaten to remove the f...  \n",
       "Bull word count                                                        1  \n",
       "Bear word count                                                        0  \n",
       "Sentiment ratio                                                  0.47093  \n",
       "8 most frequent words  [(apple, 12), (damus, 10), (zap, 10), (post, 8...  \n",
       "\n",
       "[8 rows x 23 columns]"
      ]
     },
     "execution_count": 38,
     "metadata": {},
     "output_type": "execute_result"
    }
   ],
   "source": [
    "articles.T"
   ]
  },
  {
   "cell_type": "markdown",
   "id": "7c330b8c",
   "metadata": {},
   "source": [
    "<h1>3 - Data Visualisation</h1>\n",
    "\n",
    "<h2>3.1 Stock Price Over Time Plot</h2>\n",
    "\n",
    "This function plots the median BTC price acquired from CoinMarketCap over a period of time."
   ]
  },
  {
   "cell_type": "code",
   "execution_count": 39,
   "id": "9ad935f4",
   "metadata": {},
   "outputs": [],
   "source": [
    "def drawStockPrice(ranges):\n",
    "    \n",
    "    dates  = [datedExchangeData.iloc[x][2]                     for x in ranges]\n",
    "    prices = [datedExchangeData.iloc[x][0][:6]['PRICE'].mean() for x in ranges]\n",
    "\n",
    "    # Plotting the data\n",
    "    plt.figure(figsize=(14,6))\n",
    "    plt.plot(dates, prices)\n",
    "\n",
    "    plt.fill_between(dates, prices, color='purple', alpha=.1)\n",
    "    plt.ylim(min(prices)*0.999, max(prices)*1.001)\n",
    "\n",
    "    plt.xlabel('')\n",
    "    plt.ylabel('Price')\n",
    "    plt.title('Stock Data')\n",
    "    plt.show()"
   ]
  },
  {
   "cell_type": "code",
   "execution_count": 40,
   "id": "16113bc1",
   "metadata": {},
   "outputs": [
    {
     "data": {
      "image/png": "[encoded data removed]",
      "text/plain": [
       "<Figure size 1008x432 with 1 Axes>"
      ]
     },
     "metadata": {
      "needs_background": "light"
     },
     "output_type": "display_data"
    }
   ],
   "source": [
    "drawStockPrice(range(len(datedExchangeData)))"
   ]
  },
  {
   "cell_type": "markdown",
   "id": "083383f9",
   "metadata": {},
   "source": [
    "<h2>3.2 Horizontal Bars Plot</h2>"
   ]
  },
  {
   "cell_type": "markdown",
   "id": "63565911",
   "metadata": {},
   "source": [
    "The function drawHorizontalBars() will be used to plot horizontal bars, for sentiment ratio of articles and for market depth buy vs sell order pressure, it's been coded in way so that it allows dinamically diffrent number of horizontal plots at the same time."
   ]
  },
  {
   "cell_type": "code",
   "execution_count": 41,
   "id": "51f81cbf",
   "metadata": {},
   "outputs": [],
   "source": [
    "def drawHorizontalBars(dataIn, barCount):\n",
    "    \n",
    "    label, ratio, greenAnnotation, redAnnotation = dataIn\n",
    "    \n",
    "    # I was forced to write the dataFrame like this as it was the only way to get cmap to provide me red and green bars\n",
    "    ratioValues = {'        ': [0], \n",
    "                    '       ': [0],\n",
    "                     '      ': ratio, # <------------- Green Bar Ratios\n",
    "                      '     ': [1 - x for x in ratio], # Red Bar Ratios\n",
    "                       '    ': [0],\n",
    "                        '   ': [0],\n",
    "                         '  ': [0],\n",
    "                          ' ': [0],\n",
    "                           '': [0]}\n",
    "    # Plot horizontal bar, checks also if single bar or multiple bar plot\n",
    "    size = (14, 8) if barCount > 1 else (10, 2)\n",
    "    plt  = pd.DataFrame(ratioValues, label).plot.barh(stacked=True,\n",
    "                                                      cmap='tab10', \n",
    "                                                      figsize=size)\n",
    "    # Remove legend and increase Y label size \n",
    "    plt.legend('', frameon=False)\n",
    "    plt.tick_params(axis='y', labelsize=22)\n",
    "    \n",
    "    plt.invert_yaxis()\n",
    "    \n",
    "    # Positions the annotation in the center of the colored bars\n",
    "    for x in range(0, barCount):\n",
    "        \n",
    "        left,bottom,width,height = plt.patches[barCount*2+x].get_bbox().bounds\n",
    "        if width > 0.2:\n",
    "             plt.annotate(f'{greenAnnotation[x]}', \n",
    "                          xy=(left+width/2, bottom+height/2),\n",
    "                          ha='center', \n",
    "                          va='center', \n",
    "                          fontsize=25, \n",
    "                          color='black')\n",
    "             \n",
    "        left,bottom,width,height = plt.patches[barCount*3+x].get_bbox().bounds\n",
    "        if width > 0.2:\n",
    "             plt.annotate(f'{redAnnotation[x]}',  \n",
    "                          xy=(left+width/2, bottom+height/2), \n",
    "                          ha='center', \n",
    "                          va='center', \n",
    "                          fontsize=25, \n",
    "                          color='black')"
   ]
  },
  {
   "cell_type": "markdown",
   "id": "b23e5059",
   "metadata": {},
   "source": [
    "<h3>3.2.1 Single Bar Plot</h3>\n",
    "\n",
    "Used to visualise current total market depth, so Buy vs Sell orders, the ratio value was calculated using calculateTotalDepthRatio().\n",
    "\n",
    "To avoid duplicate code when trying to get different instances of exchange data, we need to encapsulate it into the function totalDepthBar()"
   ]
  },
  {
   "cell_type": "code",
   "execution_count": 42,
   "id": "e8d5394e",
   "metadata": {
    "scrolled": true
   },
   "outputs": [
    {
     "name": "stdout",
     "output_type": "stream",
     "text": [
      "07/11/2023, 18:24:33\n"
     ]
    },
    {
     "data": {
      "image/png": "[encoded data removed]",
      "text/plain": [
       "<Figure size 720x144 with 1 Axes>"
      ]
     },
     "metadata": {
      "needs_background": "light"
     },
     "output_type": "display_data"
    }
   ],
   "source": [
    "def totalDepthBar(entryIndex):   \n",
    "    print(datedExchangeData.iloc[entryIndex][2].strftime(\"%m/%d/%Y, %H:%M:%S\")) # TIME\n",
    "    # dataIn variable stores the BUY and SELL amounts of BTC\n",
    "    dataIn = calculateTotalDepthRatio(entryIndex)\n",
    "    drawHorizontalBars([['TOTAL\\nMARKET\\nDEPTH'], \n",
    "                        [datedExchangeData.iloc[entryIndex][1]], # DRAWS MARKET DEPTH RATIO\n",
    "                        [ f'BUY {dataIn[0]} BTC'], \n",
    "                        [f'SELL {dataIn[1]} BTC']], 1)\n",
    "    \n",
    "totalDepthBar(0)"
   ]
  },
  {
   "cell_type": "markdown",
   "id": "62c70885",
   "metadata": {},
   "source": [
    "Also this single bar will be used for visualising article sentiment:"
   ]
  },
  {
   "cell_type": "code",
   "execution_count": 43,
   "id": "184b1e94",
   "metadata": {},
   "outputs": [
    {
     "data": {
      "image/png": "[encoded data removed]",
      "text/plain": [
       "<Figure size 720x144 with 1 Axes>"
      ]
     },
     "metadata": {
      "needs_background": "light"
     },
     "output_type": "display_data"
    }
   ],
   "source": [
    "drawHorizontalBars([['SENTIMENT'],\n",
    "                    [articles['Sentiment ratio'].values[0]], # DRAWS ARTICLE SENTIMENT RATIO\n",
    "                    ['+VE'],\n",
    "                    ['-VE']],1)"
   ]
  },
  {
   "cell_type": "markdown",
   "id": "6a9226d6",
   "metadata": {},
   "source": [
    "<h3>3.2.2 Multiple Bar Plot</h3>"
   ]
  },
  {
   "cell_type": "code",
   "execution_count": 44,
   "id": "a2052194",
   "metadata": {
    "scrolled": false
   },
   "outputs": [
    {
     "data": {
      "image/png": "[encoded data removed]",
      "text/plain": [
       "<Figure size 1008x576 with 1 Axes>"
      ]
     },
     "metadata": {
      "needs_background": "light"
     },
     "output_type": "display_data"
    }
   ],
   "source": [
    "processedData = multipleDepthDataManager(datedExchangeData.iloc[-1][0].iloc)\n",
    "\n",
    "drawHorizontalBars(processedData, len(processedData[0]))"
   ]
  },
  {
   "cell_type": "markdown",
   "id": "376141a2",
   "metadata": {},
   "source": [
    "<h2>3.3 Market Depth Over Time Plot</h2>\n",
    "\n",
    "This plots a graph which shows the total market depth over time, in other words the change of buy orders vs sell orders, this allows us to see if the price of BTC is likely to go up or down. \n",
    "\n",
    "It uses datedExchangeData's ratio value calculated from calculateTotalDepthRatio() and the timestamp associated."
   ]
  },
  {
   "cell_type": "code",
   "execution_count": 45,
   "id": "2b4b9a75",
   "metadata": {},
   "outputs": [],
   "source": [
    "def drawDepthPlot():    \n",
    "    \n",
    "    # Disables depreciation warnings\n",
    "    warnings.filterwarnings(\"ignore\",category=matplotlib.cbook.mplDeprecation) \n",
    "    \n",
    "    data  = datedExchangeData\n",
    "    time  = [x for x in data['DATE'].values]\n",
    "    price = [x for x in data['TOTAL DEPTH RATIO'].values]\n",
    "\n",
    "    # Plotting the data\n",
    "    plt.figure(figsize=(14,6))\n",
    "    plt.rc('font', size=14)\n",
    "    \n",
    "    plt.plot(time[500:], price[500:])\n",
    "    plt.fill_between(time, price, color='green', alpha=1)\n",
    "\n",
    "    # Center line\n",
    "    plt.axhline(y = 0.5, color = 'black', linestyle = '-', lw=0.5) \n",
    "    \n",
    "    plt.xlim(time[0], time[-1])\n",
    "    plt.ylim(0, 1)\n",
    "    \n",
    "    plt.axes().set_facecolor(\"red\")\n",
    "    \n",
    "    plt.title('MARKET DEPTH OVER TIME')\n",
    "    plt.ylabel('BUY'+16*' '+'vs.'+16*' '+'SELL')\n",
    "    \n",
    "    plt.show()"
   ]
  },
  {
   "cell_type": "code",
   "execution_count": 46,
   "id": "6a27519b",
   "metadata": {
    "scrolled": false
   },
   "outputs": [
    {
     "data": {
      "image/png": "[encoded data removed]",
      "text/plain": [
       "<Figure size 1008x432 with 1 Axes>"
      ]
     },
     "metadata": {
      "needs_background": "light"
     },
     "output_type": "display_data"
    }
   ],
   "source": [
    "drawDepthPlot()"
   ]
  },
  {
   "cell_type": "markdown",
   "id": "03ecca7c",
   "metadata": {},
   "source": [
    "<h2>3.4 Exchange Volume Over Time Plot</h2>\n",
    "\n",
    "Draws volume of the top 6 exchanges by volume, it allows to see which exchange is having the most trading activity and if there is any increased or decreased volume overall which could indicate a upcoming change in BTC price."
   ]
  },
  {
   "cell_type": "code",
   "execution_count": 47,
   "id": "731d9c17",
   "metadata": {},
   "outputs": [],
   "source": [
    "def drawExchangeVolume():\n",
    "    \n",
    "    # Creates a list of all volume data that will allow stacked graph plotting\n",
    "    datedVolume = []\n",
    "    for x in range(len(datedExchangeData)):\n",
    "        \n",
    "        data   = datedExchangeData.iloc[x]\n",
    "        volume = []\n",
    "        for y in range(0,6):\n",
    "            \n",
    "            if y > 0: \n",
    "                volume.append(data[0]['VOLUME'].values[y] + volume[y-1])\n",
    "            else:\n",
    "                volume.append(data[0]['VOLUME'].values[y])\n",
    "\n",
    "        volume.reverse()\n",
    "        datedVolume.append([data[2], volume])\n",
    "\n",
    "    # Plots each volume area on top of each other, with the biggest area at the bottom.\n",
    "    plt.figure(figsize=(15,6))\n",
    "    for y in range(0,6):\n",
    "        \n",
    "        dates  = [x[0]    for x in datedVolume]\n",
    "        prices = [x[1][y] for x in datedVolume]\n",
    "        \n",
    "        plt.ylim(0, datedVolume[-1][1][0]*1.9)\n",
    "        plt.stackplot(dates, prices, lw=0.5, edgecolor='white');\n",
    "\n",
    "    plt.title('LAST 24H EXCHANGE VOLUME')\n",
    "    plt.legend(datedExchangeData.iloc[-1][0][:6]['EXCHANGE'].values[::-1])\n",
    "    plt.show()"
   ]
  },
  {
   "cell_type": "code",
   "execution_count": 48,
   "id": "f45528d4",
   "metadata": {
    "scrolled": false
   },
   "outputs": [
    {
     "data": {
      "image/png": "[encoded data removed]",
      "text/plain": [
       "<Figure size 1080x432 with 1 Axes>"
      ]
     },
     "metadata": {
      "needs_background": "light"
     },
     "output_type": "display_data"
    }
   ],
   "source": [
    "drawExchangeVolume()"
   ]
  },
  {
   "cell_type": "markdown",
   "id": "f6098268",
   "metadata": {},
   "source": [
    "Indeed, as previously mentioned, it becomes apparent that the traded volume of the exchanges beyond the top six is relatively insignificant in comparison. Therefore, there is no necessity to consider additional exchanges in our analysis, as their impact on the market is minimal and their contribution is barely noticeable. By focusing solely on the top six exchanges, we can maintain a comprehensive understanding of the market dynamics without introducing irrelevant information from less influential exchanges."
   ]
  },
  {
   "cell_type": "markdown",
   "id": "429a04ab",
   "metadata": {},
   "source": [
    "<h2>3.5 Bull vs. Bear Keyword Count Graph Plot</h2>\n",
    "\n",
    "Draws a simple Bull vs Bear keyword count graph using data obtained with bullBearCounters(), this can be used for a single article counts or all articles combined counts."
   ]
  },
  {
   "cell_type": "code",
   "execution_count": 49,
   "id": "5a3ff0d3",
   "metadata": {},
   "outputs": [],
   "source": [
    "def drawBullBearCounters(bullCounter,bearCounter): \n",
    "    \n",
    "    # Data\n",
    "    x = ['BULL', 'BEAR']\n",
    "    y = [int(bullCounter), int(bearCounter)]\n",
    "\n",
    "    # Bar plot\n",
    "    fig, ax = plt.subplots()\n",
    "    ax.bar(x = x, height = y, color=['green', 'red'])\n",
    "\n",
    "    plt.yticks(y, [int(i) for i in y])\n",
    "    plt.title('KEYWORD COUNT', fontsize = 22)\n",
    "    \n",
    "    plt.show()"
   ]
  },
  {
   "cell_type": "code",
   "execution_count": 50,
   "id": "4d57ba27",
   "metadata": {
    "scrolled": false
   },
   "outputs": [
    {
     "data": {
      "image/png": "[encoded data removed]",
      "text/plain": [
       "<Figure size 432x288 with 1 Axes>"
      ]
     },
     "metadata": {
      "needs_background": "light"
     },
     "output_type": "display_data"
    }
   ],
   "source": [
    "drawBullBearCounters(articles.iloc[0][4], articles.iloc[0][5])"
   ]
  },
  {
   "cell_type": "markdown",
   "id": "26dda0f7",
   "metadata": {},
   "source": [
    "<h2>3.6 Word Frequency Plot</h2>\n",
    "\n",
    "Allows to inspect most common words and how common are against other words, also allows for fast understanding of the topic of the article or all articles together."
   ]
  },
  {
   "cell_type": "code",
   "execution_count": 51,
   "id": "37de0d69",
   "metadata": {},
   "outputs": [],
   "source": [
    "def drawMostFrequent(wordFrequencyList):    \n",
    "    \n",
    "    word  = [data[0].upper() for data in wordFrequencyList]\n",
    "    count =    [str(data[1]) for data in wordFrequencyList]\n",
    "\n",
    "    # Plotting the data\n",
    "    plt.figure(figsize=(5,6))\n",
    "    plt.plot(count, word)\n",
    "\n",
    "    plt.gca().invert_xaxis()\n",
    "    plt.gca().invert_yaxis()\n",
    "    \n",
    "    plt.title('WORD FREQUENCY COUNT')\n",
    "    plt.xlabel('')\n",
    "    plt.ylabel('')\n",
    "\n",
    "    plt.show()"
   ]
  },
  {
   "cell_type": "code",
   "execution_count": 52,
   "id": "272ccc4f",
   "metadata": {},
   "outputs": [
    {
     "data": {
      "image/png": "[encoded data removed]",
      "text/plain": [
       "<Figure size 360x432 with 1 Axes>"
      ]
     },
     "metadata": {
      "needs_background": "light"
     },
     "output_type": "display_data"
    }
   ],
   "source": [
    "drawMostFrequent(articles.iloc[2][7])"
   ]
  },
  {
   "cell_type": "markdown",
   "id": "54fe5911",
   "metadata": {},
   "source": [
    "<h2>3.7 Word Cloud Plot</h2>\n",
    "\n",
    "Word Cloud proved to personally be better at conveying in a nice visual way word frequency, it achieves the same Word Frequency Plot ability to give a fast picture about the topic of the article at the expense of loosing the counters visually."
   ]
  },
  {
   "cell_type": "code",
   "execution_count": 53,
   "id": "f39f8a3c",
   "metadata": {},
   "outputs": [],
   "source": [
    "def drawWordCloud(wordFrequency):\n",
    "\n",
    "    # Render WordCloud from word frequency\n",
    "    plt.figure(figsize=(7,7))\n",
    "    plt.imshow(WordCloud().generate_from_frequencies(wordFrequency), \n",
    "                                          interpolation='bilinear') \n",
    "    plt.axis(\"off\")\n",
    "    plt.show()"
   ]
  },
  {
   "cell_type": "code",
   "execution_count": 54,
   "id": "620a9f31",
   "metadata": {},
   "outputs": [
    {
     "data": {
      "image/png": "[encoded data removed]",
      "text/plain": [
       "<Figure size 504x504 with 1 Axes>"
      ]
     },
     "metadata": {
      "needs_background": "light"
     },
     "output_type": "display_data"
    }
   ],
   "source": [
    "drawWordCloud(dict(globalWordFrequencyList))"
   ]
  },
  {
   "cell_type": "markdown",
   "id": "005148e6",
   "metadata": {},
   "source": [
    "<h1>4 - Global Data Visualisation And Analysis</h1>"
   ]
  },
  {
   "cell_type": "markdown",
   "id": "cb2fe3a3",
   "metadata": {},
   "source": [
    "Now the results of all this previous code can be seen by inputing all data from exchanges and all articles scrapped into data visualisators we created and therefore draw some analysis and conclusions: "
   ]
  },
  {
   "cell_type": "markdown",
   "id": "6abced65",
   "metadata": {},
   "source": [
    "<h2>4.1 Technical Analysis</h2>\n",
    "\n",
    "This is an example of how technical analysis would be made based on the 5 last hours of data scrapping from CoinMarketCap:"
   ]
  },
  {
   "cell_type": "code",
   "execution_count": 55,
   "id": "0d9a61d8",
   "metadata": {
    "scrolled": false
   },
   "outputs": [
    {
     "data": {
      "image/png": "[encoded data removed]",
      "text/plain": [
       "<Figure size 1008x432 with 1 Axes>"
      ]
     },
     "metadata": {
      "needs_background": "light"
     },
     "output_type": "display_data"
    },
    {
     "data": {
      "image/png": "[encoded data removed]",
      "text/plain": [
       "<Figure size 1008x432 with 1 Axes>"
      ]
     },
     "metadata": {
      "needs_background": "light"
     },
     "output_type": "display_data"
    }
   ],
   "source": [
    "drawStockPrice(range(len(datedExchangeData)))\n",
    "drawDepthPlot()"
   ]
  },
  {
   "cell_type": "markdown",
   "id": "a7fa508f",
   "metadata": {},
   "source": [
    "Upon examining both graphs concurrently, it becomes apparent that the price is undergoing consolidation as time unfolds. Notably, a discernible and robust pattern emerges when the price demonstrates upward or downward movement, leading to a market depth of 0.4 (indicating SELL pressure due to the price rising) or 0.6 (suggesting BUY pressure due to the price declining). This occurrence significantly increases the likelihood of a trend reversal in the price:\n",
    "\n",
    "At 8 PM --> Ratio at 0.6 showed BUY pressure and afterwards a trend revearsal occured.\n",
    "\n",
    "At 9 PM --> Ratio at 0.4 showed SELL pressure and afterwards a trend revearsal occured.\n",
    "\n",
    "An additional noteworthy observation is the anomalous incident in the order book after 11 PM, where the market depth experienced a significant decline to approximately 0.2, indicating a substantial SELL pressure. This occurrence coincided with a momentary reversal in the price trend once again. Let's investigate who caused this."
   ]
  },
  {
   "cell_type": "code",
   "execution_count": 56,
   "id": "601cc4f8",
   "metadata": {
    "scrolled": true
   },
   "outputs": [
    {
     "data": {
      "text/html": [
       "<div>\n",
       "<style scoped>\n",
       "    .dataframe tbody tr th:only-of-type {\n",
       "        vertical-align: middle;\n",
       "    }\n",
       "\n",
       "    .dataframe tbody tr th {\n",
       "        vertical-align: top;\n",
       "    }\n",
       "\n",
       "    .dataframe thead th {\n",
       "        text-align: right;\n",
       "    }\n",
       "</style>\n",
       "<table border=\"1\" class=\"dataframe\">\n",
       "  <thead>\n",
       "    <tr style=\"text-align: right;\">\n",
       "      <th></th>\n",
       "      <th>EXCHANGE DATA</th>\n",
       "      <th>TOTAL DEPTH RATIO</th>\n",
       "      <th>DATE</th>\n",
       "    </tr>\n",
       "  </thead>\n",
       "  <tbody>\n",
       "    <tr>\n",
       "      <th>258</th>\n",
       "      <td>EXCHANGE  PRICE    +2 SELL    -2 BUY     VO...</td>\n",
       "      <td>0.141909</td>\n",
       "      <td>2023-07-11 23:14:41.143598</td>\n",
       "    </tr>\n",
       "  </tbody>\n",
       "</table>\n",
       "</div>"
      ],
      "text/plain": [
       "                                         EXCHANGE DATA TOTAL DEPTH RATIO  \\\n",
       "258     EXCHANGE  PRICE    +2 SELL    -2 BUY     VO...          0.141909   \n",
       "\n",
       "                           DATE  \n",
       "258  2023-07-11 23:14:41.143598  "
      ]
     },
     "execution_count": 56,
     "metadata": {},
     "output_type": "execute_result"
    }
   ],
   "source": [
    "datedExchangeData.sort_values(by='TOTAL DEPTH RATIO', ascending=True)[:1]"
   ]
  },
  {
   "cell_type": "markdown",
   "id": "ecaefd12",
   "metadata": {},
   "source": [
    "Getting the lowest ratio value from all entries leads us to entry 253, therefore we can crosscheck with entry 252 to see the change in the order books:"
   ]
  },
  {
   "cell_type": "code",
   "execution_count": 57,
   "id": "cee140cd",
   "metadata": {},
   "outputs": [
    {
     "name": "stdout",
     "output_type": "stream",
     "text": [
      "07/11/2023, 23:06:43\n"
     ]
    },
    {
     "data": {
      "image/png": "[encoded data removed]",
      "text/plain": [
       "<Figure size 720x144 with 1 Axes>"
      ]
     },
     "metadata": {
      "needs_background": "light"
     },
     "output_type": "display_data"
    }
   ],
   "source": [
    "totalDepthBar(252)"
   ]
  },
  {
   "cell_type": "code",
   "execution_count": 58,
   "id": "3ebda612",
   "metadata": {
    "scrolled": true
   },
   "outputs": [
    {
     "name": "stdout",
     "output_type": "stream",
     "text": [
      "07/11/2023, 23:09:50\n"
     ]
    },
    {
     "data": {
      "image/png": "[encoded data removed]",
      "text/plain": [
       "<Figure size 720x144 with 1 Axes>"
      ]
     },
     "metadata": {
      "needs_background": "light"
     },
     "output_type": "display_data"
    }
   ],
   "source": [
    "totalDepthBar(253)"
   ]
  },
  {
   "cell_type": "markdown",
   "id": "17679907",
   "metadata": {},
   "source": [
    "As we can see there is a massive sell order that was created and now we shall investigate futher which exchange caused this:"
   ]
  },
  {
   "cell_type": "code",
   "execution_count": 59,
   "id": "4daee67c",
   "metadata": {
    "scrolled": false
   },
   "outputs": [
    {
     "data": {
      "image/png": "[encoded data removed]",
      "text/plain": [
       "<Figure size 1008x576 with 1 Axes>"
      ]
     },
     "metadata": {
      "needs_background": "light"
     },
     "output_type": "display_data"
    }
   ],
   "source": [
    "processedData = multipleDepthDataManager(datedExchangeData.iloc[253][0].iloc)\n",
    "\n",
    "drawHorizontalBars(processedData, len(processedData[0]))"
   ]
  },
  {
   "cell_type": "markdown",
   "id": "05d1b24f",
   "metadata": {},
   "source": [
    "Looking at the graph, it's inmediately obvious that there is an absurdly big SELL order in the BITFINEX exchange. This indeed would cause other traders to panic and sell to avoid losses, this effect on itself drives the market down.\n",
    "\n",
    "Whoever created this order, got it removed within a few minutes after the market dropped it's price, this is called spoofing and it's a form of market manipulation, as once the price has dropped sufficiently, the trader who created the order will buy at a cheaper price making a gain. This technique has been used since 1990's, a good example is the 2010 Flash Crash caused by Navinder Singh Sarao using spoofing algorithms[1].\n",
    "\n",
    "$50 change might not seem a lot but doing some speculative calculations:\n",
    "\n",
    "50 USD * 100 BTC (We assume the trader who spoofed the market buys this amount of BTC) = 5000 USD Profit in under 60 minutes\n"
   ]
  },
  {
   "cell_type": "markdown",
   "id": "abc6df9e",
   "metadata": {},
   "source": [
    "Let's now observe the market volume:"
   ]
  },
  {
   "cell_type": "code",
   "execution_count": 60,
   "id": "b8aad7c2",
   "metadata": {
    "scrolled": false
   },
   "outputs": [
    {
     "data": {
      "image/png": "[encoded data removed]",
      "text/plain": [
       "<Figure size 1080x432 with 1 Axes>"
      ]
     },
     "metadata": {
      "needs_background": "light"
     },
     "output_type": "display_data"
    }
   ],
   "source": [
    "drawExchangeVolume()"
   ]
  },
  {
   "cell_type": "markdown",
   "id": "33207fac",
   "metadata": {},
   "source": [
    "Observing the exchanges' volume, we can see Binance has the most activity which surpasses all other exchanges combined seen here. It's pretty interesting to observe how Bitfinex being the exchange with the least volume traded from the 6 exchanges, had such a big impact on all of them when the anomaly happened.\n",
    "\n",
    "Overall we can see traded volume was decreasing as it was approaching midninght, which is normally the least active timeframe in the markets."
   ]
  },
  {
   "cell_type": "markdown",
   "id": "dd0eff3e",
   "metadata": {},
   "source": [
    "<h2>4.2 Fundamental Analysis</h2>\n",
    "\n",
    "Now we are going to analyse BTC based on the articles' scrapped data, this analysis should give us a more long term view of where the market trend might be directed by looking at the sentiment and also an eagle's view on the main keywords currently in the BTC sphere:"
   ]
  },
  {
   "cell_type": "code",
   "execution_count": 61,
   "id": "3147691b",
   "metadata": {},
   "outputs": [
    {
     "data": {
      "image/png": "[encoded data removed]",
      "text/plain": [
       "<Figure size 720x144 with 1 Axes>"
      ]
     },
     "metadata": {
      "needs_background": "light"
     },
     "output_type": "display_data"
    },
    {
     "data": {
      "image/png": "[encoded data removed]",
      "text/plain": [
       "<Figure size 432x288 with 1 Axes>"
      ]
     },
     "metadata": {
      "needs_background": "light"
     },
     "output_type": "display_data"
    }
   ],
   "source": [
    "# Plots sentiment of all articles combined\n",
    "ratio = articles['Sentiment ratio'].sum()/len(articles)\n",
    "\n",
    "drawHorizontalBars([['SENTIMENT'],\n",
    "                    [ratio],\n",
    "                    ['+VE'],\n",
    "                    ['-VE']],1)\n",
    "\n",
    "# Plots Bull vs Bear counters of all articles combined\n",
    "drawBullBearCounters(articles['Bull word count'].sum(), \n",
    "                     articles['Bear word count'].sum())"
   ]
  },
  {
   "cell_type": "markdown",
   "id": "d6d8df25",
   "metadata": {},
   "source": [
    "As we can see the sentiment seems quite positive/bullish, this would makes us be inclined into expecting the price to go up. One thing I did notice is that the sentiment analyser tends to be a bit more positive than negative, therefore I would personally offset to around 0.6 level, which would make the sentiment be just slightly positive.\n",
    "\n",
    "We can see there is overly more bullish keywords mentioned than bearish ones, it does give us a positive future trend signal but the predicament is that the keywords are technically subject to my personal bias and normally we can have keywords to be positive or negative based on the context surrounding it and not just the keyword by itself. \n",
    "\n",
    "For example, the keyword 'SEC' (Securities and Exchange Commission) normally is been associated with negative news due legislation affecting negatively the crypto market, but it could be also the case where actually the SEC has approved a legislation which allows better functioning of the crypto market like for example an approval of an ETF (Exchange-traded funds) for insitutional traders to join the crypto market, which would lead to massive liquidity inflow and push the price up due higher demand, this on itself make 'SEC' a positive keyword in this context. A way to mitigate this issue would be to implement an advanced NLP AI which is able to do this.\n",
    "\n",
    "Let's now investigate the most frequent keywords to make the big picture of what's the main topic in the BTC world:"
   ]
  },
  {
   "cell_type": "code",
   "execution_count": 62,
   "id": "a2c343ac",
   "metadata": {
    "scrolled": false
   },
   "outputs": [
    {
     "data": {
      "image/png": "[encoded data removed]",
      "text/plain": [
       "<Figure size 504x504 with 1 Axes>"
      ]
     },
     "metadata": {
      "needs_background": "light"
     },
     "output_type": "display_data"
    },
    {
     "data": {
      "image/png": "[encoded data removed]",
      "text/plain": [
       "<Figure size 360x432 with 1 Axes>"
      ]
     },
     "metadata": {
      "needs_background": "light"
     },
     "output_type": "display_data"
    }
   ],
   "source": [
    "# Plots Word Cloud and Word Frequency of all articles combined\n",
    "drawWordCloud(dict(globalWordFrequencyList))\n",
    "drawMostFrequent(globalWordFrequencyList)"
   ]
  },
  {
   "cell_type": "markdown",
   "id": "f4e1d1b5",
   "metadata": {},
   "source": [
    "Based on the strong presence of keywords such as CPI, Report, Inflation, ETF, June, and Rate, it seems highly likely that the recent release of the CPI report by the FOMC has influenced the market sentiment. The frequent mention of these keywords suggests that the news has been bullish, potentially indicating a reduction in inflation for the current month.\n",
    "\n",
    "However, it's important to note that this analysis is speculative and requires a solid understanding of the fundamental topics in financial markets. To ensure accuracy, it is advisable to crosscheck this information with reliable sources such as articles or news headlines.\n",
    "\n",
    "Combining sentiment analysis with keyword frequency can be a valuable approach for quickly identifying current trending topics in the BTC sphere. By inputting these keywords into search engines or social media platforms, one can easily access relevant headlines and stay updated. Overall, considering the positive sentiment and keyword frequency, it indicates a possible short-term positive market trend."
   ]
  },
  {
   "cell_type": "markdown",
   "id": "ababa2ae",
   "metadata": {},
   "source": [
    "<h1>5 - Data Export</h1>\n",
    "\n"
   ]
  },
  {
   "cell_type": "markdown",
   "id": "049d3c91",
   "metadata": {},
   "source": [
    "<h2>5.1 Exchange Data Export and Summary of Contents</h2>"
   ]
  },
  {
   "cell_type": "code",
   "execution_count": 63,
   "id": "ffca1d9d",
   "metadata": {},
   "outputs": [
    {
     "data": {
      "text/plain": [
       "[Index(['EXCHANGE', 'PRICE', '+2 SELL', '-2 BUY', 'VOLUME'], dtype='object'),\n",
       " 'TOTAL DEPTH RATIO',\n",
       " datetime.datetime]"
      ]
     },
     "execution_count": 63,
     "metadata": {},
     "output_type": "execute_result"
    }
   ],
   "source": [
    "# Export\n",
    "datedExchangeData.to_csv('datedExchangeData.csv', index = False)\n",
    "# Contents\n",
    "[datedExchangeData.iloc[-1][0].columns, datedExchangeData.columns[1], type(datedExchangeData.iloc[-1][2])]"
   ]
  },
  {
   "cell_type": "markdown",
   "id": "c8597594",
   "metadata": {},
   "source": [
    "<h2>5.2 Article Data Export and Summary of Contents</h2>"
   ]
  },
  {
   "cell_type": "code",
   "execution_count": 64,
   "id": "20c4148e",
   "metadata": {
    "scrolled": true
   },
   "outputs": [
    {
     "data": {
      "text/plain": [
       "Index(['Editor', 'URL', 'Raw article', 'Lemmatised article', 'Bull word count',\n",
       "       'Bear word count', 'Sentiment ratio', '8 most frequent words'],\n",
       "      dtype='object')"
      ]
     },
     "execution_count": 64,
     "metadata": {},
     "output_type": "execute_result"
    }
   ],
   "source": [
    "# Export\n",
    "articles.to_csv('articles.csv', index = False)\n",
    "# Contents\n",
    "articles.columns"
   ]
  },
  {
   "cell_type": "markdown",
   "id": "3f679ec4",
   "metadata": {},
   "source": [
    "<h1>6 - Resources and references</h1>"
   ]
  },
  {
   "cell_type": "markdown",
   "id": "5bd7968b",
   "metadata": {},
   "source": [
    "<h2>6.1 Resources</h2>\n",
    "\n",
    "- Pandas DataFrames Documentation   https://pandas.pydata.org/docs/reference/frame.html\n",
    "- NLTK POS tagging                  https://www.nltk.org/api/nltk.tag.pos_tag.html\n",
    "- Regular expression operations     https://docs.python.org/3/library/re.html"
   ]
  },
  {
   "cell_type": "markdown",
   "id": "be8b5be4",
   "metadata": {},
   "source": [
    "<h2>6.2 References</h2>\n",
    "\n",
    "1. 2010 Flash Crash - Navinder Sarao https://en.wikipedia.org/wiki/2010_flash_crash"
   ]
  }
 ],
 "metadata": {
  "kernelspec": {
   "display_name": "Python 3 (ipykernel)",
   "language": "python",
   "name": "python3"
  },
  "language_info": {
   "codemirror_mode": {
    "name": "ipython",
    "version": 3
   },
   "file_extension": ".py",
   "mimetype": "text/x-python",
   "name": "python",
   "nbconvert_exporter": "python",
   "pygments_lexer": "ipython3",
   "version": "3.9.12"
  }
 },
 "nbformat": 4,
 "nbformat_minor": 5
}
